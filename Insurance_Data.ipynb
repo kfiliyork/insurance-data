{
  "nbformat": 4,
  "nbformat_minor": 0,
  "metadata": {
    "colab": {
      "provenance": [],
      "collapsed_sections": [
        "-aTZm3Zavz_D",
        "uIg1lQJ-2-x_",
        "gnLKPwYM3CWh",
        "ZaLLGlLv3Tif",
        "6H-zMwOf6iiu",
        "qxjKnZqSkdmT",
        "eOj5xNDRVk3v",
        "jJvXL4Fae0vC",
        "GrzbscUEiH7C",
        "3GenMKUW3tM5",
        "F5mlbH5iAojJ",
        "OivNQnnA05Ga",
        "I7hQ7f9i4rq0",
        "pZlafVRj5s71",
        "DtKDZ0A-rtn5",
        "7tRV4RB9-0Oz",
        "qlPoFxE5r915",
        "EdfXNEBa-0Oz",
        "zwYlYJ21-0Oz",
        "iaIGhC-FsX-G",
        "XpC0cgaO-0O0",
        "Jdt0vg3bsZCQ",
        "uwqnXEq9_24V",
        "KNG47QEh_24W",
        "eaVpg0yL_24X",
        "M8nvyeZtwNgz",
        "qmY-aSz-_24Z",
        "56dcdDlPwQW2",
        "6T2kDGn6_24b",
        "k1S7cmXi_24b",
        "Qhn7HAbNwVcB",
        "WzOCNdxH_24d",
        "2lt_nhe7wXrB"
      ],
      "toc_visible": true
    },
    "kernelspec": {
      "name": "python3",
      "display_name": "Python 3"
    },
    "language_info": {
      "name": "python"
    }
  },
  "cells": [
    {
      "cell_type": "markdown",
      "source": [
        "# Libraries"
      ],
      "metadata": {
        "id": "-aTZm3Zavz_D"
      }
    },
    {
      "cell_type": "code",
      "source": [
        "%%capture\n",
        "!pip install ydata-profiling \n",
        "!pip install pingouin\n",
        "!pip install smote-variants"
      ],
      "metadata": {
        "id": "9RK6nelhiYMo"
      },
      "execution_count": 1,
      "outputs": []
    },
    {
      "cell_type": "code",
      "source": [
        "from ydata_profiling import ProfileReport\n",
        "import pandas as pd\n",
        "import numpy as np\n",
        "import matplotlib.pyplot as plt\n",
        "import seaborn as sns\n",
        "\n",
        "import pingouin as pg\n",
        "from scipy.stats import chi2_contingency\n",
        "from sklearn.feature_selection import SelectKBest\n",
        "from sklearn.feature_selection import chi2\n",
        "\n",
        "from sklearn.model_selection import train_test_split\n",
        "from sklearn.linear_model import LogisticRegression\n",
        "from sklearn.tree import DecisionTreeClassifier\n",
        "from sklearn.ensemble import RandomForestClassifier, GradientBoostingClassifier\n",
        "\n",
        "from sklearn.metrics import confusion_matrix, ConfusionMatrixDisplay, accuracy_score, precision_score, recall_score, f1_score\n",
        "\n",
        "from sklearn.utils import shuffle\n",
        "import smote_variants as sv"
      ],
      "metadata": {
        "id": "UdV-ZFYhuudQ"
      },
      "execution_count": 2,
      "outputs": []
    },
    {
      "cell_type": "markdown",
      "source": [
        "# Data Load"
      ],
      "metadata": {
        "id": "8IaXjHNsv2mq"
      }
    },
    {
      "cell_type": "code",
      "execution_count": 3,
      "metadata": {
        "id": "4okQLWfJuDZs"
      },
      "outputs": [],
      "source": [
        "output_data = pd.read_excel('output data.xlsx', sheet_name= 'output data')"
      ]
    },
    {
      "cell_type": "markdown",
      "source": [
        "# EDA"
      ],
      "metadata": {
        "id": "NAGp_-qydEGL"
      }
    },
    {
      "cell_type": "markdown",
      "source": [
        "## Funcs"
      ],
      "metadata": {
        "id": "uIg1lQJ-2-x_"
      }
    },
    {
      "cell_type": "code",
      "source": [
        "def df_col_info(df):\n",
        "  col_names = [col_name for col_name in df.columns]\n",
        "  nvals = [df[col_name].nunique() for col_name in df.columns]\n",
        "  types = [df[col_name].dtype for col_name in df.columns]\n",
        "\n",
        "  d = {\n",
        "       'Unique Values': nvals, \n",
        "       'Data Type': types\n",
        "       }\n",
        "\n",
        "  return pd.DataFrame(data=d, index=col_names).sort_values(by=['Unique Values'])"
      ],
      "metadata": {
        "id": "HufvOMiXwTBi"
      },
      "execution_count": 4,
      "outputs": []
    },
    {
      "cell_type": "code",
      "source": [
        "def describe_object(df, col_name):\n",
        "  print(f\"\\nCOLUMN: {col_name}\")\n",
        "  print(f\"{df[col_name].nunique()} different values\") \n",
        "  print(f\"List of values:\")\n",
        "  print(df[col_name].value_counts(normalize=True))\n",
        "  print('_'*50)"
      ],
      "metadata": {
        "id": "JKgoHrknxNVN"
      },
      "execution_count": 5,
      "outputs": []
    },
    {
      "cell_type": "markdown",
      "source": [
        "## General Info"
      ],
      "metadata": {
        "id": "gnLKPwYM3CWh"
      }
    },
    {
      "cell_type": "code",
      "source": [
        "output_data.sample(10).transpose()"
      ],
      "metadata": {
        "colab": {
          "base_uri": "https://localhost:8080/",
          "height": 0
        },
        "id": "INol01rMvLwa",
        "outputId": "5cf6e6ef-48de-4e77-cb08-832410e108fc"
      },
      "execution_count": 6,
      "outputs": [
        {
          "output_type": "execute_result",
          "data": {
            "text/plain": [
              "                                        48870        1003         943    \\\n",
              "policy_id                             ID02542      ID40378      ID33979   \n",
              "age_driver                                 37           70           38   \n",
              "License_Type                                0            0            0   \n",
              "area_cluster                               C8           C8           C8   \n",
              "is_ride_share                               0            0            0   \n",
              "population_density                       8794         8794         8794   \n",
              "make                                        3            5            5   \n",
              "fuel_type                              Diesel       Diesel       Diesel   \n",
              "airbags                                     6            2            2   \n",
              "is_adjustable_steering                    Yes          Yes          Yes   \n",
              "is_tpms                                   Yes           No           No   \n",
              "is_parking_sensors                        Yes          Yes          Yes   \n",
              "is_parking_camera                         Yes          Yes          Yes   \n",
              "rear_brakes_type                         Disc         Drum         Drum   \n",
              "cylinder                                    4            4            4   \n",
              "transmission_type                   Automatic       Manual       Manual   \n",
              "steering_type                           Power     Electric     Electric   \n",
              "gross_weight                             1720         1051         1051   \n",
              "is_rear_window_wiper                      Yes           No           No   \n",
              "is_rear_window_defogger                   Yes          Yes          Yes   \n",
              "is_brake_assist                           Yes           No           No   \n",
              "is_central_locking                        Yes          Yes          Yes   \n",
              "is_power_steering                         Yes          Yes          Yes   \n",
              "is_driver_seat_height_adjustable          Yes          Yes          Yes   \n",
              "is_day_night_rear_view_mirror              No          Yes          Yes   \n",
              "is_speed_alert                            Yes          Yes          Yes   \n",
              "Safety_rating                               3            4            4   \n",
              "is_claim                                    0            0            0   \n",
              "Prem                              1375.837445  1179.116116  1504.543248   \n",
              "\n",
              "                                        47544        56952        50837  \\\n",
              "policy_id                             ID51071      ID31749      ID26823   \n",
              "age_driver                                 47           64           53   \n",
              "License_Type                                0            0            0   \n",
              "area_cluster                               C7           C5           C8   \n",
              "is_ride_share                               1            1            1   \n",
              "population_density                       6112        34738         8794   \n",
              "make                                        3            3            3   \n",
              "fuel_type                              Diesel       Diesel       Diesel   \n",
              "airbags                                     6            6            6   \n",
              "is_adjustable_steering                    Yes          Yes          Yes   \n",
              "is_tpms                                   Yes          Yes          Yes   \n",
              "is_parking_sensors                        Yes          Yes          Yes   \n",
              "is_parking_camera                         Yes          Yes          Yes   \n",
              "rear_brakes_type                         Disc         Disc         Disc   \n",
              "cylinder                                    4            4            4   \n",
              "transmission_type                   Automatic    Automatic    Automatic   \n",
              "steering_type                           Power        Power        Power   \n",
              "gross_weight                             1720         1720         1720   \n",
              "is_rear_window_wiper                      Yes          Yes          Yes   \n",
              "is_rear_window_defogger                   Yes          Yes          Yes   \n",
              "is_brake_assist                           Yes          Yes          Yes   \n",
              "is_central_locking                        Yes          Yes          Yes   \n",
              "is_power_steering                         Yes          Yes          Yes   \n",
              "is_driver_seat_height_adjustable          Yes          Yes          Yes   \n",
              "is_day_night_rear_view_mirror              No           No           No   \n",
              "is_speed_alert                            Yes          Yes          Yes   \n",
              "Safety_rating                               3            3            3   \n",
              "is_claim                                    1            1            0   \n",
              "Prem                              1467.294847  1452.874518  1439.857626   \n",
              "\n",
              "                                        9146         25430        906    \\\n",
              "policy_id                             ID33754      ID21402      ID30322   \n",
              "age_driver                                 56           35           40   \n",
              "License_Type                                0            0            0   \n",
              "area_cluster                              C13           C8           C8   \n",
              "is_ride_share                               0            0            0   \n",
              "population_density                       5410         8794         8794   \n",
              "make                                        1            1            5   \n",
              "fuel_type                                 CNG       Petrol       Diesel   \n",
              "airbags                                     2            2            2   \n",
              "is_adjustable_steering                     No          Yes          Yes   \n",
              "is_tpms                                    No           No           No   \n",
              "is_parking_sensors                        Yes          Yes          Yes   \n",
              "is_parking_camera                          No           No          Yes   \n",
              "rear_brakes_type                         Drum         Drum         Drum   \n",
              "cylinder                                    3            4            4   \n",
              "transmission_type                      Manual       Manual       Manual   \n",
              "steering_type                           Power     Electric     Electric   \n",
              "gross_weight                             1185         1335         1051   \n",
              "is_rear_window_wiper                       No           No           No   \n",
              "is_rear_window_defogger                    No           No          Yes   \n",
              "is_brake_assist                            No          Yes           No   \n",
              "is_central_locking                         No          Yes          Yes   \n",
              "is_power_steering                         Yes          Yes          Yes   \n",
              "is_driver_seat_height_adjustable           No          Yes          Yes   \n",
              "is_day_night_rear_view_mirror              No          Yes          Yes   \n",
              "is_speed_alert                            Yes          Yes          Yes   \n",
              "Safety_rating                               0            2            4   \n",
              "is_claim                                    0            0            0   \n",
              "Prem                              1708.320814  1611.541731  1184.688498   \n",
              "\n",
              "                                        41695  \n",
              "policy_id                             ID00007  \n",
              "age_driver                                 41  \n",
              "License_Type                                0  \n",
              "area_cluster                               C7  \n",
              "is_ride_share                               0  \n",
              "population_density                       6112  \n",
              "make                                        4  \n",
              "fuel_type                              Diesel  \n",
              "airbags                                     2  \n",
              "is_adjustable_steering                    Yes  \n",
              "is_tpms                                    No  \n",
              "is_parking_sensors                        Yes  \n",
              "is_parking_camera                          No  \n",
              "rear_brakes_type                         Drum  \n",
              "cylinder                                    4  \n",
              "transmission_type                      Manual  \n",
              "steering_type                        Electric  \n",
              "gross_weight                             1490  \n",
              "is_rear_window_wiper                       No  \n",
              "is_rear_window_defogger                    No  \n",
              "is_brake_assist                            No  \n",
              "is_central_locking                        Yes  \n",
              "is_power_steering                         Yes  \n",
              "is_driver_seat_height_adjustable           No  \n",
              "is_day_night_rear_view_mirror              No  \n",
              "is_speed_alert                            Yes  \n",
              "Safety_rating                               5  \n",
              "is_claim                                    0  \n",
              "Prem                              1897.896629  "
            ],
            "text/html": [
              "\n",
              "  <div id=\"df-2b128e63-b8bd-4f40-9cd2-dfef2b317ad6\">\n",
              "    <div class=\"colab-df-container\">\n",
              "      <div>\n",
              "<style scoped>\n",
              "    .dataframe tbody tr th:only-of-type {\n",
              "        vertical-align: middle;\n",
              "    }\n",
              "\n",
              "    .dataframe tbody tr th {\n",
              "        vertical-align: top;\n",
              "    }\n",
              "\n",
              "    .dataframe thead th {\n",
              "        text-align: right;\n",
              "    }\n",
              "</style>\n",
              "<table border=\"1\" class=\"dataframe\">\n",
              "  <thead>\n",
              "    <tr style=\"text-align: right;\">\n",
              "      <th></th>\n",
              "      <th>48870</th>\n",
              "      <th>1003</th>\n",
              "      <th>943</th>\n",
              "      <th>47544</th>\n",
              "      <th>56952</th>\n",
              "      <th>50837</th>\n",
              "      <th>9146</th>\n",
              "      <th>25430</th>\n",
              "      <th>906</th>\n",
              "      <th>41695</th>\n",
              "    </tr>\n",
              "  </thead>\n",
              "  <tbody>\n",
              "    <tr>\n",
              "      <th>policy_id</th>\n",
              "      <td>ID02542</td>\n",
              "      <td>ID40378</td>\n",
              "      <td>ID33979</td>\n",
              "      <td>ID51071</td>\n",
              "      <td>ID31749</td>\n",
              "      <td>ID26823</td>\n",
              "      <td>ID33754</td>\n",
              "      <td>ID21402</td>\n",
              "      <td>ID30322</td>\n",
              "      <td>ID00007</td>\n",
              "    </tr>\n",
              "    <tr>\n",
              "      <th>age_driver</th>\n",
              "      <td>37</td>\n",
              "      <td>70</td>\n",
              "      <td>38</td>\n",
              "      <td>47</td>\n",
              "      <td>64</td>\n",
              "      <td>53</td>\n",
              "      <td>56</td>\n",
              "      <td>35</td>\n",
              "      <td>40</td>\n",
              "      <td>41</td>\n",
              "    </tr>\n",
              "    <tr>\n",
              "      <th>License_Type</th>\n",
              "      <td>0</td>\n",
              "      <td>0</td>\n",
              "      <td>0</td>\n",
              "      <td>0</td>\n",
              "      <td>0</td>\n",
              "      <td>0</td>\n",
              "      <td>0</td>\n",
              "      <td>0</td>\n",
              "      <td>0</td>\n",
              "      <td>0</td>\n",
              "    </tr>\n",
              "    <tr>\n",
              "      <th>area_cluster</th>\n",
              "      <td>C8</td>\n",
              "      <td>C8</td>\n",
              "      <td>C8</td>\n",
              "      <td>C7</td>\n",
              "      <td>C5</td>\n",
              "      <td>C8</td>\n",
              "      <td>C13</td>\n",
              "      <td>C8</td>\n",
              "      <td>C8</td>\n",
              "      <td>C7</td>\n",
              "    </tr>\n",
              "    <tr>\n",
              "      <th>is_ride_share</th>\n",
              "      <td>0</td>\n",
              "      <td>0</td>\n",
              "      <td>0</td>\n",
              "      <td>1</td>\n",
              "      <td>1</td>\n",
              "      <td>1</td>\n",
              "      <td>0</td>\n",
              "      <td>0</td>\n",
              "      <td>0</td>\n",
              "      <td>0</td>\n",
              "    </tr>\n",
              "    <tr>\n",
              "      <th>population_density</th>\n",
              "      <td>8794</td>\n",
              "      <td>8794</td>\n",
              "      <td>8794</td>\n",
              "      <td>6112</td>\n",
              "      <td>34738</td>\n",
              "      <td>8794</td>\n",
              "      <td>5410</td>\n",
              "      <td>8794</td>\n",
              "      <td>8794</td>\n",
              "      <td>6112</td>\n",
              "    </tr>\n",
              "    <tr>\n",
              "      <th>make</th>\n",
              "      <td>3</td>\n",
              "      <td>5</td>\n",
              "      <td>5</td>\n",
              "      <td>3</td>\n",
              "      <td>3</td>\n",
              "      <td>3</td>\n",
              "      <td>1</td>\n",
              "      <td>1</td>\n",
              "      <td>5</td>\n",
              "      <td>4</td>\n",
              "    </tr>\n",
              "    <tr>\n",
              "      <th>fuel_type</th>\n",
              "      <td>Diesel</td>\n",
              "      <td>Diesel</td>\n",
              "      <td>Diesel</td>\n",
              "      <td>Diesel</td>\n",
              "      <td>Diesel</td>\n",
              "      <td>Diesel</td>\n",
              "      <td>CNG</td>\n",
              "      <td>Petrol</td>\n",
              "      <td>Diesel</td>\n",
              "      <td>Diesel</td>\n",
              "    </tr>\n",
              "    <tr>\n",
              "      <th>airbags</th>\n",
              "      <td>6</td>\n",
              "      <td>2</td>\n",
              "      <td>2</td>\n",
              "      <td>6</td>\n",
              "      <td>6</td>\n",
              "      <td>6</td>\n",
              "      <td>2</td>\n",
              "      <td>2</td>\n",
              "      <td>2</td>\n",
              "      <td>2</td>\n",
              "    </tr>\n",
              "    <tr>\n",
              "      <th>is_adjustable_steering</th>\n",
              "      <td>Yes</td>\n",
              "      <td>Yes</td>\n",
              "      <td>Yes</td>\n",
              "      <td>Yes</td>\n",
              "      <td>Yes</td>\n",
              "      <td>Yes</td>\n",
              "      <td>No</td>\n",
              "      <td>Yes</td>\n",
              "      <td>Yes</td>\n",
              "      <td>Yes</td>\n",
              "    </tr>\n",
              "    <tr>\n",
              "      <th>is_tpms</th>\n",
              "      <td>Yes</td>\n",
              "      <td>No</td>\n",
              "      <td>No</td>\n",
              "      <td>Yes</td>\n",
              "      <td>Yes</td>\n",
              "      <td>Yes</td>\n",
              "      <td>No</td>\n",
              "      <td>No</td>\n",
              "      <td>No</td>\n",
              "      <td>No</td>\n",
              "    </tr>\n",
              "    <tr>\n",
              "      <th>is_parking_sensors</th>\n",
              "      <td>Yes</td>\n",
              "      <td>Yes</td>\n",
              "      <td>Yes</td>\n",
              "      <td>Yes</td>\n",
              "      <td>Yes</td>\n",
              "      <td>Yes</td>\n",
              "      <td>Yes</td>\n",
              "      <td>Yes</td>\n",
              "      <td>Yes</td>\n",
              "      <td>Yes</td>\n",
              "    </tr>\n",
              "    <tr>\n",
              "      <th>is_parking_camera</th>\n",
              "      <td>Yes</td>\n",
              "      <td>Yes</td>\n",
              "      <td>Yes</td>\n",
              "      <td>Yes</td>\n",
              "      <td>Yes</td>\n",
              "      <td>Yes</td>\n",
              "      <td>No</td>\n",
              "      <td>No</td>\n",
              "      <td>Yes</td>\n",
              "      <td>No</td>\n",
              "    </tr>\n",
              "    <tr>\n",
              "      <th>rear_brakes_type</th>\n",
              "      <td>Disc</td>\n",
              "      <td>Drum</td>\n",
              "      <td>Drum</td>\n",
              "      <td>Disc</td>\n",
              "      <td>Disc</td>\n",
              "      <td>Disc</td>\n",
              "      <td>Drum</td>\n",
              "      <td>Drum</td>\n",
              "      <td>Drum</td>\n",
              "      <td>Drum</td>\n",
              "    </tr>\n",
              "    <tr>\n",
              "      <th>cylinder</th>\n",
              "      <td>4</td>\n",
              "      <td>4</td>\n",
              "      <td>4</td>\n",
              "      <td>4</td>\n",
              "      <td>4</td>\n",
              "      <td>4</td>\n",
              "      <td>3</td>\n",
              "      <td>4</td>\n",
              "      <td>4</td>\n",
              "      <td>4</td>\n",
              "    </tr>\n",
              "    <tr>\n",
              "      <th>transmission_type</th>\n",
              "      <td>Automatic</td>\n",
              "      <td>Manual</td>\n",
              "      <td>Manual</td>\n",
              "      <td>Automatic</td>\n",
              "      <td>Automatic</td>\n",
              "      <td>Automatic</td>\n",
              "      <td>Manual</td>\n",
              "      <td>Manual</td>\n",
              "      <td>Manual</td>\n",
              "      <td>Manual</td>\n",
              "    </tr>\n",
              "    <tr>\n",
              "      <th>steering_type</th>\n",
              "      <td>Power</td>\n",
              "      <td>Electric</td>\n",
              "      <td>Electric</td>\n",
              "      <td>Power</td>\n",
              "      <td>Power</td>\n",
              "      <td>Power</td>\n",
              "      <td>Power</td>\n",
              "      <td>Electric</td>\n",
              "      <td>Electric</td>\n",
              "      <td>Electric</td>\n",
              "    </tr>\n",
              "    <tr>\n",
              "      <th>gross_weight</th>\n",
              "      <td>1720</td>\n",
              "      <td>1051</td>\n",
              "      <td>1051</td>\n",
              "      <td>1720</td>\n",
              "      <td>1720</td>\n",
              "      <td>1720</td>\n",
              "      <td>1185</td>\n",
              "      <td>1335</td>\n",
              "      <td>1051</td>\n",
              "      <td>1490</td>\n",
              "    </tr>\n",
              "    <tr>\n",
              "      <th>is_rear_window_wiper</th>\n",
              "      <td>Yes</td>\n",
              "      <td>No</td>\n",
              "      <td>No</td>\n",
              "      <td>Yes</td>\n",
              "      <td>Yes</td>\n",
              "      <td>Yes</td>\n",
              "      <td>No</td>\n",
              "      <td>No</td>\n",
              "      <td>No</td>\n",
              "      <td>No</td>\n",
              "    </tr>\n",
              "    <tr>\n",
              "      <th>is_rear_window_defogger</th>\n",
              "      <td>Yes</td>\n",
              "      <td>Yes</td>\n",
              "      <td>Yes</td>\n",
              "      <td>Yes</td>\n",
              "      <td>Yes</td>\n",
              "      <td>Yes</td>\n",
              "      <td>No</td>\n",
              "      <td>No</td>\n",
              "      <td>Yes</td>\n",
              "      <td>No</td>\n",
              "    </tr>\n",
              "    <tr>\n",
              "      <th>is_brake_assist</th>\n",
              "      <td>Yes</td>\n",
              "      <td>No</td>\n",
              "      <td>No</td>\n",
              "      <td>Yes</td>\n",
              "      <td>Yes</td>\n",
              "      <td>Yes</td>\n",
              "      <td>No</td>\n",
              "      <td>Yes</td>\n",
              "      <td>No</td>\n",
              "      <td>No</td>\n",
              "    </tr>\n",
              "    <tr>\n",
              "      <th>is_central_locking</th>\n",
              "      <td>Yes</td>\n",
              "      <td>Yes</td>\n",
              "      <td>Yes</td>\n",
              "      <td>Yes</td>\n",
              "      <td>Yes</td>\n",
              "      <td>Yes</td>\n",
              "      <td>No</td>\n",
              "      <td>Yes</td>\n",
              "      <td>Yes</td>\n",
              "      <td>Yes</td>\n",
              "    </tr>\n",
              "    <tr>\n",
              "      <th>is_power_steering</th>\n",
              "      <td>Yes</td>\n",
              "      <td>Yes</td>\n",
              "      <td>Yes</td>\n",
              "      <td>Yes</td>\n",
              "      <td>Yes</td>\n",
              "      <td>Yes</td>\n",
              "      <td>Yes</td>\n",
              "      <td>Yes</td>\n",
              "      <td>Yes</td>\n",
              "      <td>Yes</td>\n",
              "    </tr>\n",
              "    <tr>\n",
              "      <th>is_driver_seat_height_adjustable</th>\n",
              "      <td>Yes</td>\n",
              "      <td>Yes</td>\n",
              "      <td>Yes</td>\n",
              "      <td>Yes</td>\n",
              "      <td>Yes</td>\n",
              "      <td>Yes</td>\n",
              "      <td>No</td>\n",
              "      <td>Yes</td>\n",
              "      <td>Yes</td>\n",
              "      <td>No</td>\n",
              "    </tr>\n",
              "    <tr>\n",
              "      <th>is_day_night_rear_view_mirror</th>\n",
              "      <td>No</td>\n",
              "      <td>Yes</td>\n",
              "      <td>Yes</td>\n",
              "      <td>No</td>\n",
              "      <td>No</td>\n",
              "      <td>No</td>\n",
              "      <td>No</td>\n",
              "      <td>Yes</td>\n",
              "      <td>Yes</td>\n",
              "      <td>No</td>\n",
              "    </tr>\n",
              "    <tr>\n",
              "      <th>is_speed_alert</th>\n",
              "      <td>Yes</td>\n",
              "      <td>Yes</td>\n",
              "      <td>Yes</td>\n",
              "      <td>Yes</td>\n",
              "      <td>Yes</td>\n",
              "      <td>Yes</td>\n",
              "      <td>Yes</td>\n",
              "      <td>Yes</td>\n",
              "      <td>Yes</td>\n",
              "      <td>Yes</td>\n",
              "    </tr>\n",
              "    <tr>\n",
              "      <th>Safety_rating</th>\n",
              "      <td>3</td>\n",
              "      <td>4</td>\n",
              "      <td>4</td>\n",
              "      <td>3</td>\n",
              "      <td>3</td>\n",
              "      <td>3</td>\n",
              "      <td>0</td>\n",
              "      <td>2</td>\n",
              "      <td>4</td>\n",
              "      <td>5</td>\n",
              "    </tr>\n",
              "    <tr>\n",
              "      <th>is_claim</th>\n",
              "      <td>0</td>\n",
              "      <td>0</td>\n",
              "      <td>0</td>\n",
              "      <td>1</td>\n",
              "      <td>1</td>\n",
              "      <td>0</td>\n",
              "      <td>0</td>\n",
              "      <td>0</td>\n",
              "      <td>0</td>\n",
              "      <td>0</td>\n",
              "    </tr>\n",
              "    <tr>\n",
              "      <th>Prem</th>\n",
              "      <td>1375.837445</td>\n",
              "      <td>1179.116116</td>\n",
              "      <td>1504.543248</td>\n",
              "      <td>1467.294847</td>\n",
              "      <td>1452.874518</td>\n",
              "      <td>1439.857626</td>\n",
              "      <td>1708.320814</td>\n",
              "      <td>1611.541731</td>\n",
              "      <td>1184.688498</td>\n",
              "      <td>1897.896629</td>\n",
              "    </tr>\n",
              "  </tbody>\n",
              "</table>\n",
              "</div>\n",
              "      <button class=\"colab-df-convert\" onclick=\"convertToInteractive('df-2b128e63-b8bd-4f40-9cd2-dfef2b317ad6')\"\n",
              "              title=\"Convert this dataframe to an interactive table.\"\n",
              "              style=\"display:none;\">\n",
              "        \n",
              "  <svg xmlns=\"http://www.w3.org/2000/svg\" height=\"24px\"viewBox=\"0 0 24 24\"\n",
              "       width=\"24px\">\n",
              "    <path d=\"M0 0h24v24H0V0z\" fill=\"none\"/>\n",
              "    <path d=\"M18.56 5.44l.94 2.06.94-2.06 2.06-.94-2.06-.94-.94-2.06-.94 2.06-2.06.94zm-11 1L8.5 8.5l.94-2.06 2.06-.94-2.06-.94L8.5 2.5l-.94 2.06-2.06.94zm10 10l.94 2.06.94-2.06 2.06-.94-2.06-.94-.94-2.06-.94 2.06-2.06.94z\"/><path d=\"M17.41 7.96l-1.37-1.37c-.4-.4-.92-.59-1.43-.59-.52 0-1.04.2-1.43.59L10.3 9.45l-7.72 7.72c-.78.78-.78 2.05 0 2.83L4 21.41c.39.39.9.59 1.41.59.51 0 1.02-.2 1.41-.59l7.78-7.78 2.81-2.81c.8-.78.8-2.07 0-2.86zM5.41 20L4 18.59l7.72-7.72 1.47 1.35L5.41 20z\"/>\n",
              "  </svg>\n",
              "      </button>\n",
              "      \n",
              "  <style>\n",
              "    .colab-df-container {\n",
              "      display:flex;\n",
              "      flex-wrap:wrap;\n",
              "      gap: 12px;\n",
              "    }\n",
              "\n",
              "    .colab-df-convert {\n",
              "      background-color: #E8F0FE;\n",
              "      border: none;\n",
              "      border-radius: 50%;\n",
              "      cursor: pointer;\n",
              "      display: none;\n",
              "      fill: #1967D2;\n",
              "      height: 32px;\n",
              "      padding: 0 0 0 0;\n",
              "      width: 32px;\n",
              "    }\n",
              "\n",
              "    .colab-df-convert:hover {\n",
              "      background-color: #E2EBFA;\n",
              "      box-shadow: 0px 1px 2px rgba(60, 64, 67, 0.3), 0px 1px 3px 1px rgba(60, 64, 67, 0.15);\n",
              "      fill: #174EA6;\n",
              "    }\n",
              "\n",
              "    [theme=dark] .colab-df-convert {\n",
              "      background-color: #3B4455;\n",
              "      fill: #D2E3FC;\n",
              "    }\n",
              "\n",
              "    [theme=dark] .colab-df-convert:hover {\n",
              "      background-color: #434B5C;\n",
              "      box-shadow: 0px 1px 3px 1px rgba(0, 0, 0, 0.15);\n",
              "      filter: drop-shadow(0px 1px 2px rgba(0, 0, 0, 0.3));\n",
              "      fill: #FFFFFF;\n",
              "    }\n",
              "  </style>\n",
              "\n",
              "      <script>\n",
              "        const buttonEl =\n",
              "          document.querySelector('#df-2b128e63-b8bd-4f40-9cd2-dfef2b317ad6 button.colab-df-convert');\n",
              "        buttonEl.style.display =\n",
              "          google.colab.kernel.accessAllowed ? 'block' : 'none';\n",
              "\n",
              "        async function convertToInteractive(key) {\n",
              "          const element = document.querySelector('#df-2b128e63-b8bd-4f40-9cd2-dfef2b317ad6');\n",
              "          const dataTable =\n",
              "            await google.colab.kernel.invokeFunction('convertToInteractive',\n",
              "                                                     [key], {});\n",
              "          if (!dataTable) return;\n",
              "\n",
              "          const docLinkHtml = 'Like what you see? Visit the ' +\n",
              "            '<a target=\"_blank\" href=https://colab.research.google.com/notebooks/data_table.ipynb>data table notebook</a>'\n",
              "            + ' to learn more about interactive tables.';\n",
              "          element.innerHTML = '';\n",
              "          dataTable['output_type'] = 'display_data';\n",
              "          await google.colab.output.renderOutput(dataTable, element);\n",
              "          const docLink = document.createElement('div');\n",
              "          docLink.innerHTML = docLinkHtml;\n",
              "          element.appendChild(docLink);\n",
              "        }\n",
              "      </script>\n",
              "    </div>\n",
              "  </div>\n",
              "  "
            ]
          },
          "metadata": {},
          "execution_count": 6
        }
      ]
    },
    {
      "cell_type": "code",
      "source": [
        "output_data.info()"
      ],
      "metadata": {
        "colab": {
          "base_uri": "https://localhost:8080/"
        },
        "id": "D9lWwKgwwBw-",
        "outputId": "a9db4626-d32f-433f-f3f7-91877da768e2"
      },
      "execution_count": 7,
      "outputs": [
        {
          "output_type": "stream",
          "name": "stdout",
          "text": [
            "<class 'pandas.core.frame.DataFrame'>\n",
            "RangeIndex: 58592 entries, 0 to 58591\n",
            "Data columns (total 29 columns):\n",
            " #   Column                            Non-Null Count  Dtype  \n",
            "---  ------                            --------------  -----  \n",
            " 0   policy_id                         58592 non-null  object \n",
            " 1   age_driver                        58592 non-null  int64  \n",
            " 2   License_Type                      58592 non-null  int64  \n",
            " 3   area_cluster                      58592 non-null  object \n",
            " 4   is_ride_share                     58592 non-null  int64  \n",
            " 5   population_density                58592 non-null  int64  \n",
            " 6   make                              58592 non-null  int64  \n",
            " 7   fuel_type                         58592 non-null  object \n",
            " 8   airbags                           58592 non-null  int64  \n",
            " 9   is_adjustable_steering            58592 non-null  object \n",
            " 10  is_tpms                           58592 non-null  object \n",
            " 11  is_parking_sensors                58592 non-null  object \n",
            " 12  is_parking_camera                 58592 non-null  object \n",
            " 13  rear_brakes_type                  58592 non-null  object \n",
            " 14  cylinder                          58592 non-null  int64  \n",
            " 15  transmission_type                 58592 non-null  object \n",
            " 16  steering_type                     58592 non-null  object \n",
            " 17  gross_weight                      58592 non-null  int64  \n",
            " 18  is_rear_window_wiper              58592 non-null  object \n",
            " 19  is_rear_window_defogger           58592 non-null  object \n",
            " 20  is_brake_assist                   58592 non-null  object \n",
            " 21  is_central_locking                58592 non-null  object \n",
            " 22  is_power_steering                 58592 non-null  object \n",
            " 23  is_driver_seat_height_adjustable  58592 non-null  object \n",
            " 24  is_day_night_rear_view_mirror     58592 non-null  object \n",
            " 25  is_speed_alert                    58592 non-null  object \n",
            " 26  Safety_rating                     58592 non-null  int64  \n",
            " 27  is_claim                          58592 non-null  int64  \n",
            " 28  Prem                              58592 non-null  float64\n",
            "dtypes: float64(1), int64(10), object(18)\n",
            "memory usage: 13.0+ MB\n"
          ]
        }
      ]
    },
    {
      "cell_type": "code",
      "source": [
        "output_data.describe().transpose()"
      ],
      "metadata": {
        "colab": {
          "base_uri": "https://localhost:8080/",
          "height": 0
        },
        "id": "raMEvHCVwG90",
        "outputId": "7f0bf874-5f09-4ea9-c26b-7f376ad9036f"
      },
      "execution_count": 8,
      "outputs": [
        {
          "output_type": "execute_result",
          "data": {
            "text/plain": [
              "                      count          mean           std          min  \\\n",
              "age_driver          58592.0     44.058916     15.296827    18.000000   \n",
              "License_Type        58592.0      0.101857      0.302463     0.000000   \n",
              "is_ride_share       58592.0      0.175246      0.380180     0.000000   \n",
              "population_density  58592.0  18826.858667  17660.174792   290.000000   \n",
              "make                58592.0      1.763722      1.136988     1.000000   \n",
              "airbags             58592.0      3.137066      1.832641     1.000000   \n",
              "cylinder            58592.0      3.626963      0.483616     3.000000   \n",
              "gross_weight        58592.0   1385.276813    212.423085  1051.000000   \n",
              "Safety_rating       58592.0      1.759950      1.389576     0.000000   \n",
              "is_claim            58592.0      0.165842      0.371942     0.000000   \n",
              "Prem                58592.0   1700.169935    310.027706  1058.752656   \n",
              "\n",
              "                            25%         50%          75%           max  \n",
              "age_driver            31.000000    44.00000     57.00000     70.000000  \n",
              "License_Type           0.000000     0.00000      0.00000      1.000000  \n",
              "is_ride_share          0.000000     0.00000      0.00000      1.000000  \n",
              "population_density  6112.000000  8794.00000  27003.00000  73430.000000  \n",
              "make                   1.000000     1.00000      3.00000      5.000000  \n",
              "airbags                2.000000     2.00000      6.00000      6.000000  \n",
              "cylinder               3.000000     4.00000      4.00000      4.000000  \n",
              "gross_weight        1185.000000  1335.00000   1510.00000   1720.000000  \n",
              "Safety_rating          0.000000     2.00000      3.00000      5.000000  \n",
              "is_claim               0.000000     0.00000      0.00000      1.000000  \n",
              "Prem                1455.198545  1705.55847   1959.94019   2473.786029  "
            ],
            "text/html": [
              "\n",
              "  <div id=\"df-49a1bbea-e641-4a95-920b-5c9149515afc\">\n",
              "    <div class=\"colab-df-container\">\n",
              "      <div>\n",
              "<style scoped>\n",
              "    .dataframe tbody tr th:only-of-type {\n",
              "        vertical-align: middle;\n",
              "    }\n",
              "\n",
              "    .dataframe tbody tr th {\n",
              "        vertical-align: top;\n",
              "    }\n",
              "\n",
              "    .dataframe thead th {\n",
              "        text-align: right;\n",
              "    }\n",
              "</style>\n",
              "<table border=\"1\" class=\"dataframe\">\n",
              "  <thead>\n",
              "    <tr style=\"text-align: right;\">\n",
              "      <th></th>\n",
              "      <th>count</th>\n",
              "      <th>mean</th>\n",
              "      <th>std</th>\n",
              "      <th>min</th>\n",
              "      <th>25%</th>\n",
              "      <th>50%</th>\n",
              "      <th>75%</th>\n",
              "      <th>max</th>\n",
              "    </tr>\n",
              "  </thead>\n",
              "  <tbody>\n",
              "    <tr>\n",
              "      <th>age_driver</th>\n",
              "      <td>58592.0</td>\n",
              "      <td>44.058916</td>\n",
              "      <td>15.296827</td>\n",
              "      <td>18.000000</td>\n",
              "      <td>31.000000</td>\n",
              "      <td>44.00000</td>\n",
              "      <td>57.00000</td>\n",
              "      <td>70.000000</td>\n",
              "    </tr>\n",
              "    <tr>\n",
              "      <th>License_Type</th>\n",
              "      <td>58592.0</td>\n",
              "      <td>0.101857</td>\n",
              "      <td>0.302463</td>\n",
              "      <td>0.000000</td>\n",
              "      <td>0.000000</td>\n",
              "      <td>0.00000</td>\n",
              "      <td>0.00000</td>\n",
              "      <td>1.000000</td>\n",
              "    </tr>\n",
              "    <tr>\n",
              "      <th>is_ride_share</th>\n",
              "      <td>58592.0</td>\n",
              "      <td>0.175246</td>\n",
              "      <td>0.380180</td>\n",
              "      <td>0.000000</td>\n",
              "      <td>0.000000</td>\n",
              "      <td>0.00000</td>\n",
              "      <td>0.00000</td>\n",
              "      <td>1.000000</td>\n",
              "    </tr>\n",
              "    <tr>\n",
              "      <th>population_density</th>\n",
              "      <td>58592.0</td>\n",
              "      <td>18826.858667</td>\n",
              "      <td>17660.174792</td>\n",
              "      <td>290.000000</td>\n",
              "      <td>6112.000000</td>\n",
              "      <td>8794.00000</td>\n",
              "      <td>27003.00000</td>\n",
              "      <td>73430.000000</td>\n",
              "    </tr>\n",
              "    <tr>\n",
              "      <th>make</th>\n",
              "      <td>58592.0</td>\n",
              "      <td>1.763722</td>\n",
              "      <td>1.136988</td>\n",
              "      <td>1.000000</td>\n",
              "      <td>1.000000</td>\n",
              "      <td>1.00000</td>\n",
              "      <td>3.00000</td>\n",
              "      <td>5.000000</td>\n",
              "    </tr>\n",
              "    <tr>\n",
              "      <th>airbags</th>\n",
              "      <td>58592.0</td>\n",
              "      <td>3.137066</td>\n",
              "      <td>1.832641</td>\n",
              "      <td>1.000000</td>\n",
              "      <td>2.000000</td>\n",
              "      <td>2.00000</td>\n",
              "      <td>6.00000</td>\n",
              "      <td>6.000000</td>\n",
              "    </tr>\n",
              "    <tr>\n",
              "      <th>cylinder</th>\n",
              "      <td>58592.0</td>\n",
              "      <td>3.626963</td>\n",
              "      <td>0.483616</td>\n",
              "      <td>3.000000</td>\n",
              "      <td>3.000000</td>\n",
              "      <td>4.00000</td>\n",
              "      <td>4.00000</td>\n",
              "      <td>4.000000</td>\n",
              "    </tr>\n",
              "    <tr>\n",
              "      <th>gross_weight</th>\n",
              "      <td>58592.0</td>\n",
              "      <td>1385.276813</td>\n",
              "      <td>212.423085</td>\n",
              "      <td>1051.000000</td>\n",
              "      <td>1185.000000</td>\n",
              "      <td>1335.00000</td>\n",
              "      <td>1510.00000</td>\n",
              "      <td>1720.000000</td>\n",
              "    </tr>\n",
              "    <tr>\n",
              "      <th>Safety_rating</th>\n",
              "      <td>58592.0</td>\n",
              "      <td>1.759950</td>\n",
              "      <td>1.389576</td>\n",
              "      <td>0.000000</td>\n",
              "      <td>0.000000</td>\n",
              "      <td>2.00000</td>\n",
              "      <td>3.00000</td>\n",
              "      <td>5.000000</td>\n",
              "    </tr>\n",
              "    <tr>\n",
              "      <th>is_claim</th>\n",
              "      <td>58592.0</td>\n",
              "      <td>0.165842</td>\n",
              "      <td>0.371942</td>\n",
              "      <td>0.000000</td>\n",
              "      <td>0.000000</td>\n",
              "      <td>0.00000</td>\n",
              "      <td>0.00000</td>\n",
              "      <td>1.000000</td>\n",
              "    </tr>\n",
              "    <tr>\n",
              "      <th>Prem</th>\n",
              "      <td>58592.0</td>\n",
              "      <td>1700.169935</td>\n",
              "      <td>310.027706</td>\n",
              "      <td>1058.752656</td>\n",
              "      <td>1455.198545</td>\n",
              "      <td>1705.55847</td>\n",
              "      <td>1959.94019</td>\n",
              "      <td>2473.786029</td>\n",
              "    </tr>\n",
              "  </tbody>\n",
              "</table>\n",
              "</div>\n",
              "      <button class=\"colab-df-convert\" onclick=\"convertToInteractive('df-49a1bbea-e641-4a95-920b-5c9149515afc')\"\n",
              "              title=\"Convert this dataframe to an interactive table.\"\n",
              "              style=\"display:none;\">\n",
              "        \n",
              "  <svg xmlns=\"http://www.w3.org/2000/svg\" height=\"24px\"viewBox=\"0 0 24 24\"\n",
              "       width=\"24px\">\n",
              "    <path d=\"M0 0h24v24H0V0z\" fill=\"none\"/>\n",
              "    <path d=\"M18.56 5.44l.94 2.06.94-2.06 2.06-.94-2.06-.94-.94-2.06-.94 2.06-2.06.94zm-11 1L8.5 8.5l.94-2.06 2.06-.94-2.06-.94L8.5 2.5l-.94 2.06-2.06.94zm10 10l.94 2.06.94-2.06 2.06-.94-2.06-.94-.94-2.06-.94 2.06-2.06.94z\"/><path d=\"M17.41 7.96l-1.37-1.37c-.4-.4-.92-.59-1.43-.59-.52 0-1.04.2-1.43.59L10.3 9.45l-7.72 7.72c-.78.78-.78 2.05 0 2.83L4 21.41c.39.39.9.59 1.41.59.51 0 1.02-.2 1.41-.59l7.78-7.78 2.81-2.81c.8-.78.8-2.07 0-2.86zM5.41 20L4 18.59l7.72-7.72 1.47 1.35L5.41 20z\"/>\n",
              "  </svg>\n",
              "      </button>\n",
              "      \n",
              "  <style>\n",
              "    .colab-df-container {\n",
              "      display:flex;\n",
              "      flex-wrap:wrap;\n",
              "      gap: 12px;\n",
              "    }\n",
              "\n",
              "    .colab-df-convert {\n",
              "      background-color: #E8F0FE;\n",
              "      border: none;\n",
              "      border-radius: 50%;\n",
              "      cursor: pointer;\n",
              "      display: none;\n",
              "      fill: #1967D2;\n",
              "      height: 32px;\n",
              "      padding: 0 0 0 0;\n",
              "      width: 32px;\n",
              "    }\n",
              "\n",
              "    .colab-df-convert:hover {\n",
              "      background-color: #E2EBFA;\n",
              "      box-shadow: 0px 1px 2px rgba(60, 64, 67, 0.3), 0px 1px 3px 1px rgba(60, 64, 67, 0.15);\n",
              "      fill: #174EA6;\n",
              "    }\n",
              "\n",
              "    [theme=dark] .colab-df-convert {\n",
              "      background-color: #3B4455;\n",
              "      fill: #D2E3FC;\n",
              "    }\n",
              "\n",
              "    [theme=dark] .colab-df-convert:hover {\n",
              "      background-color: #434B5C;\n",
              "      box-shadow: 0px 1px 3px 1px rgba(0, 0, 0, 0.15);\n",
              "      filter: drop-shadow(0px 1px 2px rgba(0, 0, 0, 0.3));\n",
              "      fill: #FFFFFF;\n",
              "    }\n",
              "  </style>\n",
              "\n",
              "      <script>\n",
              "        const buttonEl =\n",
              "          document.querySelector('#df-49a1bbea-e641-4a95-920b-5c9149515afc button.colab-df-convert');\n",
              "        buttonEl.style.display =\n",
              "          google.colab.kernel.accessAllowed ? 'block' : 'none';\n",
              "\n",
              "        async function convertToInteractive(key) {\n",
              "          const element = document.querySelector('#df-49a1bbea-e641-4a95-920b-5c9149515afc');\n",
              "          const dataTable =\n",
              "            await google.colab.kernel.invokeFunction('convertToInteractive',\n",
              "                                                     [key], {});\n",
              "          if (!dataTable) return;\n",
              "\n",
              "          const docLinkHtml = 'Like what you see? Visit the ' +\n",
              "            '<a target=\"_blank\" href=https://colab.research.google.com/notebooks/data_table.ipynb>data table notebook</a>'\n",
              "            + ' to learn more about interactive tables.';\n",
              "          element.innerHTML = '';\n",
              "          dataTable['output_type'] = 'display_data';\n",
              "          await google.colab.output.renderOutput(dataTable, element);\n",
              "          const docLink = document.createElement('div');\n",
              "          docLink.innerHTML = docLinkHtml;\n",
              "          element.appendChild(docLink);\n",
              "        }\n",
              "      </script>\n",
              "    </div>\n",
              "  </div>\n",
              "  "
            ]
          },
          "metadata": {},
          "execution_count": 8
        }
      ]
    },
    {
      "cell_type": "code",
      "source": [
        "df_col_info(output_data)"
      ],
      "metadata": {
        "colab": {
          "base_uri": "https://localhost:8080/",
          "height": 0
        },
        "id": "lowTLsNXwUUn",
        "outputId": "fb024cf0-31af-4e9b-bc1d-352923ac0c86"
      },
      "execution_count": 9,
      "outputs": [
        {
          "output_type": "execute_result",
          "data": {
            "text/plain": [
              "                                  Unique Values Data Type\n",
              "cylinder                                      2     int64\n",
              "is_day_night_rear_view_mirror                 2    object\n",
              "is_driver_seat_height_adjustable              2    object\n",
              "is_power_steering                             2    object\n",
              "is_central_locking                            2    object\n",
              "is_brake_assist                               2    object\n",
              "is_rear_window_defogger                       2    object\n",
              "is_rear_window_wiper                          2    object\n",
              "transmission_type                             2    object\n",
              "is_claim                                      2     int64\n",
              "is_speed_alert                                2    object\n",
              "is_parking_camera                             2    object\n",
              "rear_brakes_type                              2    object\n",
              "is_tpms                                       2    object\n",
              "is_adjustable_steering                        2    object\n",
              "is_ride_share                                 2     int64\n",
              "License_Type                                  2     int64\n",
              "is_parking_sensors                            2    object\n",
              "airbags                                       3     int64\n",
              "steering_type                                 3    object\n",
              "fuel_type                                     3    object\n",
              "make                                          5     int64\n",
              "Safety_rating                                 5     int64\n",
              "gross_weight                                 10     int64\n",
              "population_density                           22     int64\n",
              "area_cluster                                 22    object\n",
              "age_driver                                   53     int64\n",
              "Prem                                      13888   float64\n",
              "policy_id                                 58592    object"
            ],
            "text/html": [
              "\n",
              "  <div id=\"df-a872ac07-7525-498e-93c2-2fdc5108cb38\">\n",
              "    <div class=\"colab-df-container\">\n",
              "      <div>\n",
              "<style scoped>\n",
              "    .dataframe tbody tr th:only-of-type {\n",
              "        vertical-align: middle;\n",
              "    }\n",
              "\n",
              "    .dataframe tbody tr th {\n",
              "        vertical-align: top;\n",
              "    }\n",
              "\n",
              "    .dataframe thead th {\n",
              "        text-align: right;\n",
              "    }\n",
              "</style>\n",
              "<table border=\"1\" class=\"dataframe\">\n",
              "  <thead>\n",
              "    <tr style=\"text-align: right;\">\n",
              "      <th></th>\n",
              "      <th>Unique Values</th>\n",
              "      <th>Data Type</th>\n",
              "    </tr>\n",
              "  </thead>\n",
              "  <tbody>\n",
              "    <tr>\n",
              "      <th>cylinder</th>\n",
              "      <td>2</td>\n",
              "      <td>int64</td>\n",
              "    </tr>\n",
              "    <tr>\n",
              "      <th>is_day_night_rear_view_mirror</th>\n",
              "      <td>2</td>\n",
              "      <td>object</td>\n",
              "    </tr>\n",
              "    <tr>\n",
              "      <th>is_driver_seat_height_adjustable</th>\n",
              "      <td>2</td>\n",
              "      <td>object</td>\n",
              "    </tr>\n",
              "    <tr>\n",
              "      <th>is_power_steering</th>\n",
              "      <td>2</td>\n",
              "      <td>object</td>\n",
              "    </tr>\n",
              "    <tr>\n",
              "      <th>is_central_locking</th>\n",
              "      <td>2</td>\n",
              "      <td>object</td>\n",
              "    </tr>\n",
              "    <tr>\n",
              "      <th>is_brake_assist</th>\n",
              "      <td>2</td>\n",
              "      <td>object</td>\n",
              "    </tr>\n",
              "    <tr>\n",
              "      <th>is_rear_window_defogger</th>\n",
              "      <td>2</td>\n",
              "      <td>object</td>\n",
              "    </tr>\n",
              "    <tr>\n",
              "      <th>is_rear_window_wiper</th>\n",
              "      <td>2</td>\n",
              "      <td>object</td>\n",
              "    </tr>\n",
              "    <tr>\n",
              "      <th>transmission_type</th>\n",
              "      <td>2</td>\n",
              "      <td>object</td>\n",
              "    </tr>\n",
              "    <tr>\n",
              "      <th>is_claim</th>\n",
              "      <td>2</td>\n",
              "      <td>int64</td>\n",
              "    </tr>\n",
              "    <tr>\n",
              "      <th>is_speed_alert</th>\n",
              "      <td>2</td>\n",
              "      <td>object</td>\n",
              "    </tr>\n",
              "    <tr>\n",
              "      <th>is_parking_camera</th>\n",
              "      <td>2</td>\n",
              "      <td>object</td>\n",
              "    </tr>\n",
              "    <tr>\n",
              "      <th>rear_brakes_type</th>\n",
              "      <td>2</td>\n",
              "      <td>object</td>\n",
              "    </tr>\n",
              "    <tr>\n",
              "      <th>is_tpms</th>\n",
              "      <td>2</td>\n",
              "      <td>object</td>\n",
              "    </tr>\n",
              "    <tr>\n",
              "      <th>is_adjustable_steering</th>\n",
              "      <td>2</td>\n",
              "      <td>object</td>\n",
              "    </tr>\n",
              "    <tr>\n",
              "      <th>is_ride_share</th>\n",
              "      <td>2</td>\n",
              "      <td>int64</td>\n",
              "    </tr>\n",
              "    <tr>\n",
              "      <th>License_Type</th>\n",
              "      <td>2</td>\n",
              "      <td>int64</td>\n",
              "    </tr>\n",
              "    <tr>\n",
              "      <th>is_parking_sensors</th>\n",
              "      <td>2</td>\n",
              "      <td>object</td>\n",
              "    </tr>\n",
              "    <tr>\n",
              "      <th>airbags</th>\n",
              "      <td>3</td>\n",
              "      <td>int64</td>\n",
              "    </tr>\n",
              "    <tr>\n",
              "      <th>steering_type</th>\n",
              "      <td>3</td>\n",
              "      <td>object</td>\n",
              "    </tr>\n",
              "    <tr>\n",
              "      <th>fuel_type</th>\n",
              "      <td>3</td>\n",
              "      <td>object</td>\n",
              "    </tr>\n",
              "    <tr>\n",
              "      <th>make</th>\n",
              "      <td>5</td>\n",
              "      <td>int64</td>\n",
              "    </tr>\n",
              "    <tr>\n",
              "      <th>Safety_rating</th>\n",
              "      <td>5</td>\n",
              "      <td>int64</td>\n",
              "    </tr>\n",
              "    <tr>\n",
              "      <th>gross_weight</th>\n",
              "      <td>10</td>\n",
              "      <td>int64</td>\n",
              "    </tr>\n",
              "    <tr>\n",
              "      <th>population_density</th>\n",
              "      <td>22</td>\n",
              "      <td>int64</td>\n",
              "    </tr>\n",
              "    <tr>\n",
              "      <th>area_cluster</th>\n",
              "      <td>22</td>\n",
              "      <td>object</td>\n",
              "    </tr>\n",
              "    <tr>\n",
              "      <th>age_driver</th>\n",
              "      <td>53</td>\n",
              "      <td>int64</td>\n",
              "    </tr>\n",
              "    <tr>\n",
              "      <th>Prem</th>\n",
              "      <td>13888</td>\n",
              "      <td>float64</td>\n",
              "    </tr>\n",
              "    <tr>\n",
              "      <th>policy_id</th>\n",
              "      <td>58592</td>\n",
              "      <td>object</td>\n",
              "    </tr>\n",
              "  </tbody>\n",
              "</table>\n",
              "</div>\n",
              "      <button class=\"colab-df-convert\" onclick=\"convertToInteractive('df-a872ac07-7525-498e-93c2-2fdc5108cb38')\"\n",
              "              title=\"Convert this dataframe to an interactive table.\"\n",
              "              style=\"display:none;\">\n",
              "        \n",
              "  <svg xmlns=\"http://www.w3.org/2000/svg\" height=\"24px\"viewBox=\"0 0 24 24\"\n",
              "       width=\"24px\">\n",
              "    <path d=\"M0 0h24v24H0V0z\" fill=\"none\"/>\n",
              "    <path d=\"M18.56 5.44l.94 2.06.94-2.06 2.06-.94-2.06-.94-.94-2.06-.94 2.06-2.06.94zm-11 1L8.5 8.5l.94-2.06 2.06-.94-2.06-.94L8.5 2.5l-.94 2.06-2.06.94zm10 10l.94 2.06.94-2.06 2.06-.94-2.06-.94-.94-2.06-.94 2.06-2.06.94z\"/><path d=\"M17.41 7.96l-1.37-1.37c-.4-.4-.92-.59-1.43-.59-.52 0-1.04.2-1.43.59L10.3 9.45l-7.72 7.72c-.78.78-.78 2.05 0 2.83L4 21.41c.39.39.9.59 1.41.59.51 0 1.02-.2 1.41-.59l7.78-7.78 2.81-2.81c.8-.78.8-2.07 0-2.86zM5.41 20L4 18.59l7.72-7.72 1.47 1.35L5.41 20z\"/>\n",
              "  </svg>\n",
              "      </button>\n",
              "      \n",
              "  <style>\n",
              "    .colab-df-container {\n",
              "      display:flex;\n",
              "      flex-wrap:wrap;\n",
              "      gap: 12px;\n",
              "    }\n",
              "\n",
              "    .colab-df-convert {\n",
              "      background-color: #E8F0FE;\n",
              "      border: none;\n",
              "      border-radius: 50%;\n",
              "      cursor: pointer;\n",
              "      display: none;\n",
              "      fill: #1967D2;\n",
              "      height: 32px;\n",
              "      padding: 0 0 0 0;\n",
              "      width: 32px;\n",
              "    }\n",
              "\n",
              "    .colab-df-convert:hover {\n",
              "      background-color: #E2EBFA;\n",
              "      box-shadow: 0px 1px 2px rgba(60, 64, 67, 0.3), 0px 1px 3px 1px rgba(60, 64, 67, 0.15);\n",
              "      fill: #174EA6;\n",
              "    }\n",
              "\n",
              "    [theme=dark] .colab-df-convert {\n",
              "      background-color: #3B4455;\n",
              "      fill: #D2E3FC;\n",
              "    }\n",
              "\n",
              "    [theme=dark] .colab-df-convert:hover {\n",
              "      background-color: #434B5C;\n",
              "      box-shadow: 0px 1px 3px 1px rgba(0, 0, 0, 0.15);\n",
              "      filter: drop-shadow(0px 1px 2px rgba(0, 0, 0, 0.3));\n",
              "      fill: #FFFFFF;\n",
              "    }\n",
              "  </style>\n",
              "\n",
              "      <script>\n",
              "        const buttonEl =\n",
              "          document.querySelector('#df-a872ac07-7525-498e-93c2-2fdc5108cb38 button.colab-df-convert');\n",
              "        buttonEl.style.display =\n",
              "          google.colab.kernel.accessAllowed ? 'block' : 'none';\n",
              "\n",
              "        async function convertToInteractive(key) {\n",
              "          const element = document.querySelector('#df-a872ac07-7525-498e-93c2-2fdc5108cb38');\n",
              "          const dataTable =\n",
              "            await google.colab.kernel.invokeFunction('convertToInteractive',\n",
              "                                                     [key], {});\n",
              "          if (!dataTable) return;\n",
              "\n",
              "          const docLinkHtml = 'Like what you see? Visit the ' +\n",
              "            '<a target=\"_blank\" href=https://colab.research.google.com/notebooks/data_table.ipynb>data table notebook</a>'\n",
              "            + ' to learn more about interactive tables.';\n",
              "          element.innerHTML = '';\n",
              "          dataTable['output_type'] = 'display_data';\n",
              "          await google.colab.output.renderOutput(dataTable, element);\n",
              "          const docLink = document.createElement('div');\n",
              "          docLink.innerHTML = docLinkHtml;\n",
              "          element.appendChild(docLink);\n",
              "        }\n",
              "      </script>\n",
              "    </div>\n",
              "  </div>\n",
              "  "
            ]
          },
          "metadata": {},
          "execution_count": 9
        }
      ]
    },
    {
      "cell_type": "code",
      "source": [
        "cols = list(output_data.drop(['age_driver', 'Prem', 'policy_id'], axis=1).columns)"
      ],
      "metadata": {
        "id": "5WnIs5OPxTnW"
      },
      "execution_count": 10,
      "outputs": []
    },
    {
      "cell_type": "code",
      "source": [
        "cols"
      ],
      "metadata": {
        "colab": {
          "base_uri": "https://localhost:8080/"
        },
        "id": "_0OxEn6zx55T",
        "outputId": "7f33defb-ee1e-49e5-a64d-50bf3c40f517"
      },
      "execution_count": 11,
      "outputs": [
        {
          "output_type": "execute_result",
          "data": {
            "text/plain": [
              "['License_Type',\n",
              " 'area_cluster',\n",
              " 'is_ride_share',\n",
              " 'population_density',\n",
              " 'make',\n",
              " 'fuel_type',\n",
              " 'airbags',\n",
              " 'is_adjustable_steering',\n",
              " 'is_tpms',\n",
              " 'is_parking_sensors',\n",
              " 'is_parking_camera',\n",
              " 'rear_brakes_type',\n",
              " 'cylinder',\n",
              " 'transmission_type',\n",
              " 'steering_type',\n",
              " 'gross_weight',\n",
              " 'is_rear_window_wiper',\n",
              " 'is_rear_window_defogger',\n",
              " 'is_brake_assist',\n",
              " 'is_central_locking',\n",
              " 'is_power_steering',\n",
              " 'is_driver_seat_height_adjustable',\n",
              " 'is_day_night_rear_view_mirror',\n",
              " 'is_speed_alert',\n",
              " 'Safety_rating',\n",
              " 'is_claim']"
            ]
          },
          "metadata": {},
          "execution_count": 11
        }
      ]
    },
    {
      "cell_type": "code",
      "source": [
        "for col_name in cols:\n",
        "  describe_object(output_data, col_name)"
      ],
      "metadata": {
        "colab": {
          "base_uri": "https://localhost:8080/"
        },
        "id": "xWkKzBc4xOyi",
        "outputId": "29d14bdb-e841-4333-bced-1172b4b67e25"
      },
      "execution_count": 12,
      "outputs": [
        {
          "output_type": "stream",
          "name": "stdout",
          "text": [
            "\n",
            "COLUMN: License_Type\n",
            "2 different values\n",
            "List of values:\n",
            "0    0.898143\n",
            "1    0.101857\n",
            "Name: License_Type, dtype: float64\n",
            "__________________________________________________\n",
            "\n",
            "COLUMN: area_cluster\n",
            "22 different values\n",
            "List of values:\n",
            "C8     0.233035\n",
            "C2     0.125307\n",
            "C5     0.119112\n",
            "C3     0.104127\n",
            "C14    0.062466\n",
            "C13    0.058421\n",
            "C10    0.053847\n",
            "C9     0.046662\n",
            "C7     0.036985\n",
            "C12    0.027120\n",
            "C1     0.025055\n",
            "C11    0.020685\n",
            "C19    0.016248\n",
            "C6     0.015190\n",
            "C15    0.013159\n",
            "C4     0.011350\n",
            "C17    0.008397\n",
            "C16    0.006844\n",
            "C21    0.006468\n",
            "C18    0.004130\n",
            "C22    0.003533\n",
            "C20    0.001860\n",
            "Name: area_cluster, dtype: float64\n",
            "__________________________________________________\n",
            "\n",
            "COLUMN: is_ride_share\n",
            "2 different values\n",
            "List of values:\n",
            "0    0.824754\n",
            "1    0.175246\n",
            "Name: is_ride_share, dtype: float64\n",
            "__________________________________________________\n",
            "\n",
            "COLUMN: population_density\n",
            "22 different values\n",
            "List of values:\n",
            "8794     0.233035\n",
            "27003    0.125307\n",
            "34738    0.119112\n",
            "4076     0.104127\n",
            "7788     0.062466\n",
            "5410     0.058421\n",
            "73430    0.053847\n",
            "17804    0.046662\n",
            "6112     0.036985\n",
            "34791    0.027120\n",
            "4990     0.025055\n",
            "6108     0.020685\n",
            "27742    0.016248\n",
            "13051    0.015190\n",
            "290      0.013159\n",
            "21622    0.011350\n",
            "65567    0.008397\n",
            "16206    0.006844\n",
            "3264     0.006468\n",
            "35036    0.004130\n",
            "16733    0.003533\n",
            "20905    0.001860\n",
            "Name: population_density, dtype: float64\n",
            "__________________________________________________\n",
            "\n",
            "COLUMN: make\n",
            "5 different values\n",
            "List of values:\n",
            "1    0.650703\n",
            "3    0.239248\n",
            "2    0.040500\n",
            "5    0.036080\n",
            "4    0.033469\n",
            "Name: make, dtype: float64\n",
            "__________________________________________________\n",
            "\n",
            "COLUMN: fuel_type\n",
            "3 different values\n",
            "List of values:\n",
            "Petrol    0.350423\n",
            "CNG       0.346976\n",
            "Diesel    0.302601\n",
            "Name: fuel_type, dtype: float64\n",
            "__________________________________________________\n",
            "\n",
            "COLUMN: airbags\n",
            "3 different values\n",
            "List of values:\n",
            "2    0.689941\n",
            "6    0.289425\n",
            "1    0.020634\n",
            "Name: airbags, dtype: float64\n",
            "__________________________________________________\n",
            "\n",
            "COLUMN: is_adjustable_steering\n",
            "2 different values\n",
            "List of values:\n",
            "Yes    0.606329\n",
            "No     0.393671\n",
            "Name: is_adjustable_steering, dtype: float64\n",
            "__________________________________________________\n",
            "\n",
            "COLUMN: is_tpms\n",
            "2 different values\n",
            "List of values:\n",
            "No     0.760752\n",
            "Yes    0.239248\n",
            "Name: is_tpms, dtype: float64\n",
            "__________________________________________________\n",
            "\n",
            "COLUMN: is_parking_sensors\n",
            "2 different values\n",
            "List of values:\n",
            "Yes    0.9595\n",
            "No     0.0405\n",
            "Name: is_parking_sensors, dtype: float64\n",
            "__________________________________________________\n",
            "\n",
            "COLUMN: is_parking_camera\n",
            "2 different values\n",
            "List of values:\n",
            "No     0.609366\n",
            "Yes    0.390634\n",
            "Name: is_parking_camera, dtype: float64\n",
            "__________________________________________________\n",
            "\n",
            "COLUMN: rear_brakes_type\n",
            "2 different values\n",
            "List of values:\n",
            "Drum    0.760752\n",
            "Disc    0.239248\n",
            "Name: rear_brakes_type, dtype: float64\n",
            "__________________________________________________\n",
            "\n",
            "COLUMN: cylinder\n",
            "2 different values\n",
            "List of values:\n",
            "4    0.626963\n",
            "3    0.373037\n",
            "Name: cylinder, dtype: float64\n",
            "__________________________________________________\n",
            "\n",
            "COLUMN: transmission_type\n",
            "2 different values\n",
            "List of values:\n",
            "Manual       0.651642\n",
            "Automatic    0.348358\n",
            "Name: transmission_type, dtype: float64\n",
            "__________________________________________________\n",
            "\n",
            "COLUMN: steering_type\n",
            "3 different values\n",
            "List of values:\n",
            "Power       0.571785\n",
            "Electric    0.407581\n",
            "Manual      0.020634\n",
            "Name: steering_type, dtype: float64\n",
            "__________________________________________________\n",
            "\n",
            "COLUMN: gross_weight\n",
            "10 different values\n",
            "List of values:\n",
            "1185    0.255120\n",
            "1335    0.253550\n",
            "1720    0.239248\n",
            "1340    0.071221\n",
            "1410    0.050177\n",
            "1155    0.040500\n",
            "1051    0.036080\n",
            "1490    0.027273\n",
            "1510    0.020634\n",
            "1660    0.006195\n",
            "Name: gross_weight, dtype: float64\n",
            "__________________________________________________\n",
            "\n",
            "COLUMN: is_rear_window_wiper\n",
            "2 different values\n",
            "List of values:\n",
            "No     0.710575\n",
            "Yes    0.289425\n",
            "Name: is_rear_window_wiper, dtype: float64\n",
            "__________________________________________________\n",
            "\n",
            "COLUMN: is_rear_window_defogger\n",
            "2 different values\n",
            "List of values:\n",
            "No     0.649867\n",
            "Yes    0.350133\n",
            "Name: is_rear_window_defogger, dtype: float64\n",
            "__________________________________________________\n",
            "\n",
            "COLUMN: is_brake_assist\n",
            "2 different values\n",
            "List of values:\n",
            "Yes    0.549171\n",
            "No     0.450829\n",
            "Name: is_brake_assist, dtype: float64\n",
            "__________________________________________________\n",
            "\n",
            "COLUMN: is_central_locking\n",
            "2 different values\n",
            "List of values:\n",
            "Yes    0.724246\n",
            "No     0.275754\n",
            "Name: is_central_locking, dtype: float64\n",
            "__________________________________________________\n",
            "\n",
            "COLUMN: is_power_steering\n",
            "2 different values\n",
            "List of values:\n",
            "Yes    0.979366\n",
            "No     0.020634\n",
            "Name: is_power_steering, dtype: float64\n",
            "__________________________________________________\n",
            "\n",
            "COLUMN: is_driver_seat_height_adjustable\n",
            "2 different values\n",
            "List of values:\n",
            "Yes    0.585251\n",
            "No     0.414749\n",
            "Name: is_driver_seat_height_adjustable, dtype: float64\n",
            "__________________________________________________\n",
            "\n",
            "COLUMN: is_day_night_rear_view_mirror\n",
            "2 different values\n",
            "List of values:\n",
            "No     0.619692\n",
            "Yes    0.380308\n",
            "Name: is_day_night_rear_view_mirror, dtype: float64\n",
            "__________________________________________________\n",
            "\n",
            "COLUMN: is_speed_alert\n",
            "2 different values\n",
            "List of values:\n",
            "Yes    0.993805\n",
            "No     0.006195\n",
            "Name: is_speed_alert, dtype: float64\n",
            "__________________________________________________\n",
            "\n",
            "COLUMN: Safety_rating\n",
            "5 different values\n",
            "List of values:\n",
            "2    0.365272\n",
            "0    0.325932\n",
            "3    0.239248\n",
            "4    0.036080\n",
            "5    0.033469\n",
            "Name: Safety_rating, dtype: float64\n",
            "__________________________________________________\n",
            "\n",
            "COLUMN: is_claim\n",
            "2 different values\n",
            "List of values:\n",
            "0    0.834158\n",
            "1    0.165842\n",
            "Name: is_claim, dtype: float64\n",
            "__________________________________________________\n"
          ]
        }
      ]
    },
    {
      "cell_type": "markdown",
      "source": [
        "## Missing and Duplicated values"
      ],
      "metadata": {
        "id": "ZaLLGlLv3Tif"
      }
    },
    {
      "cell_type": "code",
      "source": [
        "output_data.isnull().sum().sum()"
      ],
      "metadata": {
        "colab": {
          "base_uri": "https://localhost:8080/"
        },
        "id": "Jdx1qLTs3WXU",
        "outputId": "967fd60f-1664-4153-9f74-0399c89b10c0"
      },
      "execution_count": 13,
      "outputs": [
        {
          "output_type": "execute_result",
          "data": {
            "text/plain": [
              "0"
            ]
          },
          "metadata": {},
          "execution_count": 13
        }
      ]
    },
    {
      "cell_type": "code",
      "source": [
        "output_data.duplicated().sum()"
      ],
      "metadata": {
        "colab": {
          "base_uri": "https://localhost:8080/"
        },
        "id": "l78DUyOe3uML",
        "outputId": "3bcc9d6e-fbbe-47d9-fcf5-d2096cb54f96"
      },
      "execution_count": 14,
      "outputs": [
        {
          "output_type": "execute_result",
          "data": {
            "text/plain": [
              "0"
            ]
          },
          "metadata": {},
          "execution_count": 14
        }
      ]
    },
    {
      "cell_type": "markdown",
      "source": [
        "## Categorical Features"
      ],
      "metadata": {
        "id": "6H-zMwOf6iiu"
      }
    },
    {
      "cell_type": "markdown",
      "source": [
        "### Irrelevant Data"
      ],
      "metadata": {
        "id": "qxjKnZqSkdmT"
      }
    },
    {
      "cell_type": "code",
      "source": [
        "df = output_data.iloc[:,].copy()"
      ],
      "metadata": {
        "id": "IFpV-QrukdG9"
      },
      "execution_count": 15,
      "outputs": []
    },
    {
      "cell_type": "code",
      "source": [
        "df = df.drop('policy_id', axis=1)"
      ],
      "metadata": {
        "id": "cs49uHjK3Yu9"
      },
      "execution_count": 16,
      "outputs": []
    },
    {
      "cell_type": "markdown",
      "source": [
        "### Value Mappings"
      ],
      "metadata": {
        "id": "eOj5xNDRVk3v"
      }
    },
    {
      "cell_type": "markdown",
      "source": [
        "As a benchmark, it was decided to test a model with mapping values of categorical features to integers. \n",
        "\n",
        "Alternatively, one-hot dummy variables could/may be used."
      ],
      "metadata": {
        "id": "hrCRnDaimxwu"
      }
    },
    {
      "cell_type": "code",
      "source": [
        "to_map_y_n_cols = ['is_adjustable_steering', \n",
        "            'is_tpms', \n",
        "            'is_parking_sensors', \n",
        "            'is_parking_camera', \n",
        "            'is_rear_window_wiper', \n",
        "            'is_rear_window_defogger', \n",
        "            'is_brake_assist', \n",
        "            'is_central_locking', \n",
        "            'is_power_steering', \n",
        "            'is_driver_seat_height_adjustable', \n",
        "            'is_day_night_rear_view_mirror', \n",
        "            'is_speed_alert'\n",
        "            ]\n"
      ],
      "metadata": {
        "id": "9fsuXfX36xUY"
      },
      "execution_count": 17,
      "outputs": []
    },
    {
      "cell_type": "code",
      "source": [
        "to_map_other_cols = ['fuel_type', 'rear_brakes_type', 'transmission_type', 'steering_type']"
      ],
      "metadata": {
        "id": "I1pJjs3qXwmI"
      },
      "execution_count": 18,
      "outputs": []
    },
    {
      "cell_type": "code",
      "source": [
        "df[to_map_y_n_cols + to_map_other_cols].sample(10).transpose()"
      ],
      "metadata": {
        "colab": {
          "base_uri": "https://localhost:8080/",
          "height": 0
        },
        "id": "OfZdNe7PV2G8",
        "outputId": "6bb27229-edd6-41bf-c91d-1da37f941d90"
      },
      "execution_count": 19,
      "outputs": [
        {
          "output_type": "execute_result",
          "data": {
            "text/plain": [
              "                                   8492      27767      39033   44329  \\\n",
              "is_adjustable_steering                No       Yes        Yes      No   \n",
              "is_tpms                               No        No         No      No   \n",
              "is_parking_sensors                   Yes       Yes        Yes     Yes   \n",
              "is_parking_camera                     No        No        Yes     Yes   \n",
              "is_rear_window_wiper                  No        No        Yes      No   \n",
              "is_rear_window_defogger               No        No        Yes     Yes   \n",
              "is_brake_assist                       No       Yes        Yes     Yes   \n",
              "is_central_locking                    No       Yes        Yes     Yes   \n",
              "is_power_steering                    Yes       Yes        Yes     Yes   \n",
              "is_driver_seat_height_adjustable      No       Yes        Yes     Yes   \n",
              "is_day_night_rear_view_mirror         No       Yes        Yes      No   \n",
              "is_speed_alert                       Yes       Yes        Yes      No   \n",
              "fuel_type                            CNG    Petrol     Petrol  Petrol   \n",
              "rear_brakes_type                    Drum      Drum       Drum    Drum   \n",
              "transmission_type                 Manual    Manual  Automatic  Manual   \n",
              "steering_type                      Power  Electric   Electric   Power   \n",
              "\n",
              "                                     31259   15637   8825       52144  \\\n",
              "is_adjustable_steering                 Yes      No      No        Yes   \n",
              "is_tpms                                 No      No      No        Yes   \n",
              "is_parking_sensors                     Yes     Yes     Yes        Yes   \n",
              "is_parking_camera                       No      No      No        Yes   \n",
              "is_rear_window_wiper                    No      No      No        Yes   \n",
              "is_rear_window_defogger                 No      No      No        Yes   \n",
              "is_brake_assist                        Yes      No      No        Yes   \n",
              "is_central_locking                     Yes      No      No        Yes   \n",
              "is_power_steering                      Yes     Yes     Yes        Yes   \n",
              "is_driver_seat_height_adjustable       Yes      No      No        Yes   \n",
              "is_day_night_rear_view_mirror          Yes      No      No         No   \n",
              "is_speed_alert                         Yes     Yes     Yes        Yes   \n",
              "fuel_type                           Petrol     CNG     CNG     Diesel   \n",
              "rear_brakes_type                      Drum    Drum    Drum       Disc   \n",
              "transmission_type                   Manual  Manual  Manual  Automatic   \n",
              "steering_type                     Electric   Power   Power      Power   \n",
              "\n",
              "                                     42411     29080  \n",
              "is_adjustable_steering                 Yes       Yes  \n",
              "is_tpms                                 No        No  \n",
              "is_parking_sensors                     Yes       Yes  \n",
              "is_parking_camera                       No        No  \n",
              "is_rear_window_wiper                    No        No  \n",
              "is_rear_window_defogger                 No        No  \n",
              "is_brake_assist                         No       Yes  \n",
              "is_central_locking                     Yes       Yes  \n",
              "is_power_steering                      Yes       Yes  \n",
              "is_driver_seat_height_adjustable        No       Yes  \n",
              "is_day_night_rear_view_mirror           No       Yes  \n",
              "is_speed_alert                         Yes       Yes  \n",
              "fuel_type                           Diesel    Petrol  \n",
              "rear_brakes_type                      Drum      Drum  \n",
              "transmission_type                   Manual    Manual  \n",
              "steering_type                     Electric  Electric  "
            ],
            "text/html": [
              "\n",
              "  <div id=\"df-19b23f03-9eda-4a5b-aa0c-dfe033f949b3\">\n",
              "    <div class=\"colab-df-container\">\n",
              "      <div>\n",
              "<style scoped>\n",
              "    .dataframe tbody tr th:only-of-type {\n",
              "        vertical-align: middle;\n",
              "    }\n",
              "\n",
              "    .dataframe tbody tr th {\n",
              "        vertical-align: top;\n",
              "    }\n",
              "\n",
              "    .dataframe thead th {\n",
              "        text-align: right;\n",
              "    }\n",
              "</style>\n",
              "<table border=\"1\" class=\"dataframe\">\n",
              "  <thead>\n",
              "    <tr style=\"text-align: right;\">\n",
              "      <th></th>\n",
              "      <th>8492</th>\n",
              "      <th>27767</th>\n",
              "      <th>39033</th>\n",
              "      <th>44329</th>\n",
              "      <th>31259</th>\n",
              "      <th>15637</th>\n",
              "      <th>8825</th>\n",
              "      <th>52144</th>\n",
              "      <th>42411</th>\n",
              "      <th>29080</th>\n",
              "    </tr>\n",
              "  </thead>\n",
              "  <tbody>\n",
              "    <tr>\n",
              "      <th>is_adjustable_steering</th>\n",
              "      <td>No</td>\n",
              "      <td>Yes</td>\n",
              "      <td>Yes</td>\n",
              "      <td>No</td>\n",
              "      <td>Yes</td>\n",
              "      <td>No</td>\n",
              "      <td>No</td>\n",
              "      <td>Yes</td>\n",
              "      <td>Yes</td>\n",
              "      <td>Yes</td>\n",
              "    </tr>\n",
              "    <tr>\n",
              "      <th>is_tpms</th>\n",
              "      <td>No</td>\n",
              "      <td>No</td>\n",
              "      <td>No</td>\n",
              "      <td>No</td>\n",
              "      <td>No</td>\n",
              "      <td>No</td>\n",
              "      <td>No</td>\n",
              "      <td>Yes</td>\n",
              "      <td>No</td>\n",
              "      <td>No</td>\n",
              "    </tr>\n",
              "    <tr>\n",
              "      <th>is_parking_sensors</th>\n",
              "      <td>Yes</td>\n",
              "      <td>Yes</td>\n",
              "      <td>Yes</td>\n",
              "      <td>Yes</td>\n",
              "      <td>Yes</td>\n",
              "      <td>Yes</td>\n",
              "      <td>Yes</td>\n",
              "      <td>Yes</td>\n",
              "      <td>Yes</td>\n",
              "      <td>Yes</td>\n",
              "    </tr>\n",
              "    <tr>\n",
              "      <th>is_parking_camera</th>\n",
              "      <td>No</td>\n",
              "      <td>No</td>\n",
              "      <td>Yes</td>\n",
              "      <td>Yes</td>\n",
              "      <td>No</td>\n",
              "      <td>No</td>\n",
              "      <td>No</td>\n",
              "      <td>Yes</td>\n",
              "      <td>No</td>\n",
              "      <td>No</td>\n",
              "    </tr>\n",
              "    <tr>\n",
              "      <th>is_rear_window_wiper</th>\n",
              "      <td>No</td>\n",
              "      <td>No</td>\n",
              "      <td>Yes</td>\n",
              "      <td>No</td>\n",
              "      <td>No</td>\n",
              "      <td>No</td>\n",
              "      <td>No</td>\n",
              "      <td>Yes</td>\n",
              "      <td>No</td>\n",
              "      <td>No</td>\n",
              "    </tr>\n",
              "    <tr>\n",
              "      <th>is_rear_window_defogger</th>\n",
              "      <td>No</td>\n",
              "      <td>No</td>\n",
              "      <td>Yes</td>\n",
              "      <td>Yes</td>\n",
              "      <td>No</td>\n",
              "      <td>No</td>\n",
              "      <td>No</td>\n",
              "      <td>Yes</td>\n",
              "      <td>No</td>\n",
              "      <td>No</td>\n",
              "    </tr>\n",
              "    <tr>\n",
              "      <th>is_brake_assist</th>\n",
              "      <td>No</td>\n",
              "      <td>Yes</td>\n",
              "      <td>Yes</td>\n",
              "      <td>Yes</td>\n",
              "      <td>Yes</td>\n",
              "      <td>No</td>\n",
              "      <td>No</td>\n",
              "      <td>Yes</td>\n",
              "      <td>No</td>\n",
              "      <td>Yes</td>\n",
              "    </tr>\n",
              "    <tr>\n",
              "      <th>is_central_locking</th>\n",
              "      <td>No</td>\n",
              "      <td>Yes</td>\n",
              "      <td>Yes</td>\n",
              "      <td>Yes</td>\n",
              "      <td>Yes</td>\n",
              "      <td>No</td>\n",
              "      <td>No</td>\n",
              "      <td>Yes</td>\n",
              "      <td>Yes</td>\n",
              "      <td>Yes</td>\n",
              "    </tr>\n",
              "    <tr>\n",
              "      <th>is_power_steering</th>\n",
              "      <td>Yes</td>\n",
              "      <td>Yes</td>\n",
              "      <td>Yes</td>\n",
              "      <td>Yes</td>\n",
              "      <td>Yes</td>\n",
              "      <td>Yes</td>\n",
              "      <td>Yes</td>\n",
              "      <td>Yes</td>\n",
              "      <td>Yes</td>\n",
              "      <td>Yes</td>\n",
              "    </tr>\n",
              "    <tr>\n",
              "      <th>is_driver_seat_height_adjustable</th>\n",
              "      <td>No</td>\n",
              "      <td>Yes</td>\n",
              "      <td>Yes</td>\n",
              "      <td>Yes</td>\n",
              "      <td>Yes</td>\n",
              "      <td>No</td>\n",
              "      <td>No</td>\n",
              "      <td>Yes</td>\n",
              "      <td>No</td>\n",
              "      <td>Yes</td>\n",
              "    </tr>\n",
              "    <tr>\n",
              "      <th>is_day_night_rear_view_mirror</th>\n",
              "      <td>No</td>\n",
              "      <td>Yes</td>\n",
              "      <td>Yes</td>\n",
              "      <td>No</td>\n",
              "      <td>Yes</td>\n",
              "      <td>No</td>\n",
              "      <td>No</td>\n",
              "      <td>No</td>\n",
              "      <td>No</td>\n",
              "      <td>Yes</td>\n",
              "    </tr>\n",
              "    <tr>\n",
              "      <th>is_speed_alert</th>\n",
              "      <td>Yes</td>\n",
              "      <td>Yes</td>\n",
              "      <td>Yes</td>\n",
              "      <td>No</td>\n",
              "      <td>Yes</td>\n",
              "      <td>Yes</td>\n",
              "      <td>Yes</td>\n",
              "      <td>Yes</td>\n",
              "      <td>Yes</td>\n",
              "      <td>Yes</td>\n",
              "    </tr>\n",
              "    <tr>\n",
              "      <th>fuel_type</th>\n",
              "      <td>CNG</td>\n",
              "      <td>Petrol</td>\n",
              "      <td>Petrol</td>\n",
              "      <td>Petrol</td>\n",
              "      <td>Petrol</td>\n",
              "      <td>CNG</td>\n",
              "      <td>CNG</td>\n",
              "      <td>Diesel</td>\n",
              "      <td>Diesel</td>\n",
              "      <td>Petrol</td>\n",
              "    </tr>\n",
              "    <tr>\n",
              "      <th>rear_brakes_type</th>\n",
              "      <td>Drum</td>\n",
              "      <td>Drum</td>\n",
              "      <td>Drum</td>\n",
              "      <td>Drum</td>\n",
              "      <td>Drum</td>\n",
              "      <td>Drum</td>\n",
              "      <td>Drum</td>\n",
              "      <td>Disc</td>\n",
              "      <td>Drum</td>\n",
              "      <td>Drum</td>\n",
              "    </tr>\n",
              "    <tr>\n",
              "      <th>transmission_type</th>\n",
              "      <td>Manual</td>\n",
              "      <td>Manual</td>\n",
              "      <td>Automatic</td>\n",
              "      <td>Manual</td>\n",
              "      <td>Manual</td>\n",
              "      <td>Manual</td>\n",
              "      <td>Manual</td>\n",
              "      <td>Automatic</td>\n",
              "      <td>Manual</td>\n",
              "      <td>Manual</td>\n",
              "    </tr>\n",
              "    <tr>\n",
              "      <th>steering_type</th>\n",
              "      <td>Power</td>\n",
              "      <td>Electric</td>\n",
              "      <td>Electric</td>\n",
              "      <td>Power</td>\n",
              "      <td>Electric</td>\n",
              "      <td>Power</td>\n",
              "      <td>Power</td>\n",
              "      <td>Power</td>\n",
              "      <td>Electric</td>\n",
              "      <td>Electric</td>\n",
              "    </tr>\n",
              "  </tbody>\n",
              "</table>\n",
              "</div>\n",
              "      <button class=\"colab-df-convert\" onclick=\"convertToInteractive('df-19b23f03-9eda-4a5b-aa0c-dfe033f949b3')\"\n",
              "              title=\"Convert this dataframe to an interactive table.\"\n",
              "              style=\"display:none;\">\n",
              "        \n",
              "  <svg xmlns=\"http://www.w3.org/2000/svg\" height=\"24px\"viewBox=\"0 0 24 24\"\n",
              "       width=\"24px\">\n",
              "    <path d=\"M0 0h24v24H0V0z\" fill=\"none\"/>\n",
              "    <path d=\"M18.56 5.44l.94 2.06.94-2.06 2.06-.94-2.06-.94-.94-2.06-.94 2.06-2.06.94zm-11 1L8.5 8.5l.94-2.06 2.06-.94-2.06-.94L8.5 2.5l-.94 2.06-2.06.94zm10 10l.94 2.06.94-2.06 2.06-.94-2.06-.94-.94-2.06-.94 2.06-2.06.94z\"/><path d=\"M17.41 7.96l-1.37-1.37c-.4-.4-.92-.59-1.43-.59-.52 0-1.04.2-1.43.59L10.3 9.45l-7.72 7.72c-.78.78-.78 2.05 0 2.83L4 21.41c.39.39.9.59 1.41.59.51 0 1.02-.2 1.41-.59l7.78-7.78 2.81-2.81c.8-.78.8-2.07 0-2.86zM5.41 20L4 18.59l7.72-7.72 1.47 1.35L5.41 20z\"/>\n",
              "  </svg>\n",
              "      </button>\n",
              "      \n",
              "  <style>\n",
              "    .colab-df-container {\n",
              "      display:flex;\n",
              "      flex-wrap:wrap;\n",
              "      gap: 12px;\n",
              "    }\n",
              "\n",
              "    .colab-df-convert {\n",
              "      background-color: #E8F0FE;\n",
              "      border: none;\n",
              "      border-radius: 50%;\n",
              "      cursor: pointer;\n",
              "      display: none;\n",
              "      fill: #1967D2;\n",
              "      height: 32px;\n",
              "      padding: 0 0 0 0;\n",
              "      width: 32px;\n",
              "    }\n",
              "\n",
              "    .colab-df-convert:hover {\n",
              "      background-color: #E2EBFA;\n",
              "      box-shadow: 0px 1px 2px rgba(60, 64, 67, 0.3), 0px 1px 3px 1px rgba(60, 64, 67, 0.15);\n",
              "      fill: #174EA6;\n",
              "    }\n",
              "\n",
              "    [theme=dark] .colab-df-convert {\n",
              "      background-color: #3B4455;\n",
              "      fill: #D2E3FC;\n",
              "    }\n",
              "\n",
              "    [theme=dark] .colab-df-convert:hover {\n",
              "      background-color: #434B5C;\n",
              "      box-shadow: 0px 1px 3px 1px rgba(0, 0, 0, 0.15);\n",
              "      filter: drop-shadow(0px 1px 2px rgba(0, 0, 0, 0.3));\n",
              "      fill: #FFFFFF;\n",
              "    }\n",
              "  </style>\n",
              "\n",
              "      <script>\n",
              "        const buttonEl =\n",
              "          document.querySelector('#df-19b23f03-9eda-4a5b-aa0c-dfe033f949b3 button.colab-df-convert');\n",
              "        buttonEl.style.display =\n",
              "          google.colab.kernel.accessAllowed ? 'block' : 'none';\n",
              "\n",
              "        async function convertToInteractive(key) {\n",
              "          const element = document.querySelector('#df-19b23f03-9eda-4a5b-aa0c-dfe033f949b3');\n",
              "          const dataTable =\n",
              "            await google.colab.kernel.invokeFunction('convertToInteractive',\n",
              "                                                     [key], {});\n",
              "          if (!dataTable) return;\n",
              "\n",
              "          const docLinkHtml = 'Like what you see? Visit the ' +\n",
              "            '<a target=\"_blank\" href=https://colab.research.google.com/notebooks/data_table.ipynb>data table notebook</a>'\n",
              "            + ' to learn more about interactive tables.';\n",
              "          element.innerHTML = '';\n",
              "          dataTable['output_type'] = 'display_data';\n",
              "          await google.colab.output.renderOutput(dataTable, element);\n",
              "          const docLink = document.createElement('div');\n",
              "          docLink.innerHTML = docLinkHtml;\n",
              "          element.appendChild(docLink);\n",
              "        }\n",
              "      </script>\n",
              "    </div>\n",
              "  </div>\n",
              "  "
            ]
          },
          "metadata": {},
          "execution_count": 19
        }
      ]
    },
    {
      "cell_type": "code",
      "source": [
        "for col in to_map_y_n_cols:\n",
        "  df[col] = df.loc[:,col].map({'Yes': 1, 'No': 0})"
      ],
      "metadata": {
        "id": "9T_oVp40V9Qm"
      },
      "execution_count": 20,
      "outputs": []
    },
    {
      "cell_type": "code",
      "source": [
        "df['fuel_type'] = df.loc[:,'fuel_type'].map({'Petrol': 0, 'CNG': 1, 'Diesel': 2})\n",
        "df['rear_brakes_type'] = df.loc[:,'rear_brakes_type'].map({'Drum': 0, 'Disc': 1})\n",
        "df['transmission_type'] = df.loc[:,'transmission_type'].map({'Manual': 0, 'Automatic': 1})\n",
        "df['steering_type'] = df.loc[:,'steering_type'].map({'Power': 0, 'Electric': 1, 'Manual': 2})\n",
        "df['area_cluster'] = df.loc[:,'area_cluster'].transform(lambda x: int(x[slice(1,len(x))]))"
      ],
      "metadata": {
        "id": "sbSHqurrWUWg"
      },
      "execution_count": 21,
      "outputs": []
    },
    {
      "cell_type": "code",
      "source": [
        "other_cols = [i for i in df.columns if i not in to_map_y_n_cols and i not in to_map_other_cols]"
      ],
      "metadata": {
        "id": "e2AT585FVjMo"
      },
      "execution_count": 22,
      "outputs": []
    },
    {
      "cell_type": "code",
      "source": [
        "df_col_info(df[other_cols])"
      ],
      "metadata": {
        "colab": {
          "base_uri": "https://localhost:8080/",
          "height": 0
        },
        "id": "Mg7ijaVhYCYN",
        "outputId": "903d8ad5-6511-4cb7-cd9f-871eec04c242"
      },
      "execution_count": 23,
      "outputs": [
        {
          "output_type": "execute_result",
          "data": {
            "text/plain": [
              "                    Unique Values Data Type\n",
              "License_Type                    2     int64\n",
              "is_ride_share                   2     int64\n",
              "cylinder                        2     int64\n",
              "is_claim                        2     int64\n",
              "airbags                         3     int64\n",
              "make                            5     int64\n",
              "Safety_rating                   5     int64\n",
              "gross_weight                   10     int64\n",
              "area_cluster                   22     int64\n",
              "population_density             22     int64\n",
              "age_driver                     53     int64\n",
              "Prem                        13888   float64"
            ],
            "text/html": [
              "\n",
              "  <div id=\"df-47042eed-7477-4a02-a2ce-b40e99fc95f8\">\n",
              "    <div class=\"colab-df-container\">\n",
              "      <div>\n",
              "<style scoped>\n",
              "    .dataframe tbody tr th:only-of-type {\n",
              "        vertical-align: middle;\n",
              "    }\n",
              "\n",
              "    .dataframe tbody tr th {\n",
              "        vertical-align: top;\n",
              "    }\n",
              "\n",
              "    .dataframe thead th {\n",
              "        text-align: right;\n",
              "    }\n",
              "</style>\n",
              "<table border=\"1\" class=\"dataframe\">\n",
              "  <thead>\n",
              "    <tr style=\"text-align: right;\">\n",
              "      <th></th>\n",
              "      <th>Unique Values</th>\n",
              "      <th>Data Type</th>\n",
              "    </tr>\n",
              "  </thead>\n",
              "  <tbody>\n",
              "    <tr>\n",
              "      <th>License_Type</th>\n",
              "      <td>2</td>\n",
              "      <td>int64</td>\n",
              "    </tr>\n",
              "    <tr>\n",
              "      <th>is_ride_share</th>\n",
              "      <td>2</td>\n",
              "      <td>int64</td>\n",
              "    </tr>\n",
              "    <tr>\n",
              "      <th>cylinder</th>\n",
              "      <td>2</td>\n",
              "      <td>int64</td>\n",
              "    </tr>\n",
              "    <tr>\n",
              "      <th>is_claim</th>\n",
              "      <td>2</td>\n",
              "      <td>int64</td>\n",
              "    </tr>\n",
              "    <tr>\n",
              "      <th>airbags</th>\n",
              "      <td>3</td>\n",
              "      <td>int64</td>\n",
              "    </tr>\n",
              "    <tr>\n",
              "      <th>make</th>\n",
              "      <td>5</td>\n",
              "      <td>int64</td>\n",
              "    </tr>\n",
              "    <tr>\n",
              "      <th>Safety_rating</th>\n",
              "      <td>5</td>\n",
              "      <td>int64</td>\n",
              "    </tr>\n",
              "    <tr>\n",
              "      <th>gross_weight</th>\n",
              "      <td>10</td>\n",
              "      <td>int64</td>\n",
              "    </tr>\n",
              "    <tr>\n",
              "      <th>area_cluster</th>\n",
              "      <td>22</td>\n",
              "      <td>int64</td>\n",
              "    </tr>\n",
              "    <tr>\n",
              "      <th>population_density</th>\n",
              "      <td>22</td>\n",
              "      <td>int64</td>\n",
              "    </tr>\n",
              "    <tr>\n",
              "      <th>age_driver</th>\n",
              "      <td>53</td>\n",
              "      <td>int64</td>\n",
              "    </tr>\n",
              "    <tr>\n",
              "      <th>Prem</th>\n",
              "      <td>13888</td>\n",
              "      <td>float64</td>\n",
              "    </tr>\n",
              "  </tbody>\n",
              "</table>\n",
              "</div>\n",
              "      <button class=\"colab-df-convert\" onclick=\"convertToInteractive('df-47042eed-7477-4a02-a2ce-b40e99fc95f8')\"\n",
              "              title=\"Convert this dataframe to an interactive table.\"\n",
              "              style=\"display:none;\">\n",
              "        \n",
              "  <svg xmlns=\"http://www.w3.org/2000/svg\" height=\"24px\"viewBox=\"0 0 24 24\"\n",
              "       width=\"24px\">\n",
              "    <path d=\"M0 0h24v24H0V0z\" fill=\"none\"/>\n",
              "    <path d=\"M18.56 5.44l.94 2.06.94-2.06 2.06-.94-2.06-.94-.94-2.06-.94 2.06-2.06.94zm-11 1L8.5 8.5l.94-2.06 2.06-.94-2.06-.94L8.5 2.5l-.94 2.06-2.06.94zm10 10l.94 2.06.94-2.06 2.06-.94-2.06-.94-.94-2.06-.94 2.06-2.06.94z\"/><path d=\"M17.41 7.96l-1.37-1.37c-.4-.4-.92-.59-1.43-.59-.52 0-1.04.2-1.43.59L10.3 9.45l-7.72 7.72c-.78.78-.78 2.05 0 2.83L4 21.41c.39.39.9.59 1.41.59.51 0 1.02-.2 1.41-.59l7.78-7.78 2.81-2.81c.8-.78.8-2.07 0-2.86zM5.41 20L4 18.59l7.72-7.72 1.47 1.35L5.41 20z\"/>\n",
              "  </svg>\n",
              "      </button>\n",
              "      \n",
              "  <style>\n",
              "    .colab-df-container {\n",
              "      display:flex;\n",
              "      flex-wrap:wrap;\n",
              "      gap: 12px;\n",
              "    }\n",
              "\n",
              "    .colab-df-convert {\n",
              "      background-color: #E8F0FE;\n",
              "      border: none;\n",
              "      border-radius: 50%;\n",
              "      cursor: pointer;\n",
              "      display: none;\n",
              "      fill: #1967D2;\n",
              "      height: 32px;\n",
              "      padding: 0 0 0 0;\n",
              "      width: 32px;\n",
              "    }\n",
              "\n",
              "    .colab-df-convert:hover {\n",
              "      background-color: #E2EBFA;\n",
              "      box-shadow: 0px 1px 2px rgba(60, 64, 67, 0.3), 0px 1px 3px 1px rgba(60, 64, 67, 0.15);\n",
              "      fill: #174EA6;\n",
              "    }\n",
              "\n",
              "    [theme=dark] .colab-df-convert {\n",
              "      background-color: #3B4455;\n",
              "      fill: #D2E3FC;\n",
              "    }\n",
              "\n",
              "    [theme=dark] .colab-df-convert:hover {\n",
              "      background-color: #434B5C;\n",
              "      box-shadow: 0px 1px 3px 1px rgba(0, 0, 0, 0.15);\n",
              "      filter: drop-shadow(0px 1px 2px rgba(0, 0, 0, 0.3));\n",
              "      fill: #FFFFFF;\n",
              "    }\n",
              "  </style>\n",
              "\n",
              "      <script>\n",
              "        const buttonEl =\n",
              "          document.querySelector('#df-47042eed-7477-4a02-a2ce-b40e99fc95f8 button.colab-df-convert');\n",
              "        buttonEl.style.display =\n",
              "          google.colab.kernel.accessAllowed ? 'block' : 'none';\n",
              "\n",
              "        async function convertToInteractive(key) {\n",
              "          const element = document.querySelector('#df-47042eed-7477-4a02-a2ce-b40e99fc95f8');\n",
              "          const dataTable =\n",
              "            await google.colab.kernel.invokeFunction('convertToInteractive',\n",
              "                                                     [key], {});\n",
              "          if (!dataTable) return;\n",
              "\n",
              "          const docLinkHtml = 'Like what you see? Visit the ' +\n",
              "            '<a target=\"_blank\" href=https://colab.research.google.com/notebooks/data_table.ipynb>data table notebook</a>'\n",
              "            + ' to learn more about interactive tables.';\n",
              "          element.innerHTML = '';\n",
              "          dataTable['output_type'] = 'display_data';\n",
              "          await google.colab.output.renderOutput(dataTable, element);\n",
              "          const docLink = document.createElement('div');\n",
              "          docLink.innerHTML = docLinkHtml;\n",
              "          element.appendChild(docLink);\n",
              "        }\n",
              "      </script>\n",
              "    </div>\n",
              "  </div>\n",
              "  "
            ]
          },
          "metadata": {},
          "execution_count": 23
        }
      ]
    },
    {
      "cell_type": "code",
      "source": [
        "categorical_attributes = to_map_y_n_cols + to_map_other_cols + [ 'License_Type', 'area_cluster', 'is_ride_share', 'make', 'Safety_rating']\n",
        "# categorical_attributes"
      ],
      "metadata": {
        "id": "_aBhHO7-Y6GB"
      },
      "execution_count": 24,
      "outputs": []
    },
    {
      "cell_type": "markdown",
      "source": [
        "## Data Type Conversion"
      ],
      "metadata": {
        "id": "jJvXL4Fae0vC"
      }
    },
    {
      "cell_type": "code",
      "source": [
        "df[categorical_attributes].dtypes"
      ],
      "metadata": {
        "colab": {
          "base_uri": "https://localhost:8080/"
        },
        "id": "ABZVVT7we5X-",
        "outputId": "fc8cd700-d324-479e-83a0-80ce219c4d69"
      },
      "execution_count": 25,
      "outputs": [
        {
          "output_type": "execute_result",
          "data": {
            "text/plain": [
              "is_adjustable_steering              int64\n",
              "is_tpms                             int64\n",
              "is_parking_sensors                  int64\n",
              "is_parking_camera                   int64\n",
              "is_rear_window_wiper                int64\n",
              "is_rear_window_defogger             int64\n",
              "is_brake_assist                     int64\n",
              "is_central_locking                  int64\n",
              "is_power_steering                   int64\n",
              "is_driver_seat_height_adjustable    int64\n",
              "is_day_night_rear_view_mirror       int64\n",
              "is_speed_alert                      int64\n",
              "fuel_type                           int64\n",
              "rear_brakes_type                    int64\n",
              "transmission_type                   int64\n",
              "steering_type                       int64\n",
              "License_Type                        int64\n",
              "area_cluster                        int64\n",
              "is_ride_share                       int64\n",
              "make                                int64\n",
              "Safety_rating                       int64\n",
              "dtype: object"
            ]
          },
          "metadata": {},
          "execution_count": 25
        }
      ]
    },
    {
      "cell_type": "code",
      "source": [
        "for col in categorical_attributes:\n",
        "  df[col] = df[col].astype('category')"
      ],
      "metadata": {
        "id": "Eswc1g2qe6i_"
      },
      "execution_count": 26,
      "outputs": []
    },
    {
      "cell_type": "code",
      "source": [
        "df[categorical_attributes].dtypes"
      ],
      "metadata": {
        "colab": {
          "base_uri": "https://localhost:8080/"
        },
        "id": "CL4ahEVee6cF",
        "outputId": "b5eb06db-5ba0-42f2-b0c8-13763de9929d"
      },
      "execution_count": 27,
      "outputs": [
        {
          "output_type": "execute_result",
          "data": {
            "text/plain": [
              "is_adjustable_steering              category\n",
              "is_tpms                             category\n",
              "is_parking_sensors                  category\n",
              "is_parking_camera                   category\n",
              "is_rear_window_wiper                category\n",
              "is_rear_window_defogger             category\n",
              "is_brake_assist                     category\n",
              "is_central_locking                  category\n",
              "is_power_steering                   category\n",
              "is_driver_seat_height_adjustable    category\n",
              "is_day_night_rear_view_mirror       category\n",
              "is_speed_alert                      category\n",
              "fuel_type                           category\n",
              "rear_brakes_type                    category\n",
              "transmission_type                   category\n",
              "steering_type                       category\n",
              "License_Type                        category\n",
              "area_cluster                        category\n",
              "is_ride_share                       category\n",
              "make                                category\n",
              "Safety_rating                       category\n",
              "dtype: object"
            ]
          },
          "metadata": {},
          "execution_count": 27
        }
      ]
    },
    {
      "cell_type": "markdown",
      "source": [
        "\n",
        "# Feature Selection"
      ],
      "metadata": {
        "id": "GrzbscUEiH7C"
      }
    },
    {
      "cell_type": "markdown",
      "source": [
        "Below are the methods for feature selection\n",
        "- Effect size test - Cramer's V \n",
        "- Test for dependence/independence - chi-squared\n",
        "\n",
        "Info about Cramer's V - https://www.ibm.com/docs/en/cognos-analytics/11.1.0?topic=terms-cramrs-v\n",
        "\n"
      ],
      "metadata": {
        "id": "o-gRqJ2RjbFH"
      }
    },
    {
      "cell_type": "markdown",
      "source": [
        "## Cramer's V test"
      ],
      "metadata": {
        "id": "3GenMKUW3tM5"
      }
    },
    {
      "cell_type": "code",
      "source": [
        "def cramers_v(x, y):\n",
        "    confusion_matrix = pd.crosstab(x, y)\n",
        "    chi2 = chi2_contingency(confusion_matrix)[0]\n",
        "    n = confusion_matrix.sum().sum()\n",
        "    r, k = confusion_matrix.shape\n",
        "    return np.sqrt((chi2 / (n * (min(r, k) - 1))))"
      ],
      "metadata": {
        "id": "LcQ-X1ta3t0R"
      },
      "execution_count": 28,
      "outputs": []
    },
    {
      "cell_type": "code",
      "source": [
        "X = df.drop('is_claim', axis=1)\n",
        "y = df['is_claim']"
      ],
      "metadata": {
        "id": "5fGVcWSe8j_j"
      },
      "execution_count": 29,
      "outputs": []
    },
    {
      "cell_type": "code",
      "source": [
        "effSize_craimer = [cramers_v(X[i], y) for i in X.columns]\n",
        "effSize_craimer = pd.Series(effSize_craimer,index = X.columns).sort_values(ascending = False)"
      ],
      "metadata": {
        "id": "fr9htfP780UQ"
      },
      "execution_count": 30,
      "outputs": []
    },
    {
      "cell_type": "code",
      "source": [
        "effSize_craimer"
      ],
      "metadata": {
        "colab": {
          "base_uri": "https://localhost:8080/"
        },
        "id": "20EXspjZ9lnA",
        "outputId": "d429ee0c-1ec6-4060-8c46-3766cc516a5c"
      },
      "execution_count": 31,
      "outputs": [
        {
          "output_type": "execute_result",
          "data": {
            "text/plain": [
              "Prem                                0.692620\n",
              "is_ride_share                       0.473821\n",
              "gross_weight                        0.362833\n",
              "airbags                             0.341325\n",
              "transmission_type                   0.301982\n",
              "is_parking_camera                   0.274604\n",
              "is_rear_window_wiper                0.265931\n",
              "make                                0.263419\n",
              "is_rear_window_defogger             0.251388\n",
              "Safety_rating                       0.246546\n",
              "is_tpms                             0.242516\n",
              "rear_brakes_type                    0.242516\n",
              "steering_type                       0.196319\n",
              "fuel_type                           0.196064\n",
              "is_power_steering                   0.188187\n",
              "cylinder                            0.161332\n",
              "is_brake_assist                     0.136968\n",
              "is_driver_seat_height_adjustable    0.118064\n",
              "is_adjustable_steering              0.104893\n",
              "is_central_locking                  0.100319\n",
              "is_parking_sensors                  0.071220\n",
              "population_density                  0.065836\n",
              "area_cluster                        0.065836\n",
              "is_day_night_rear_view_mirror       0.064460\n",
              "age_driver                          0.037675\n",
              "License_Type                        0.016196\n",
              "is_speed_alert                      0.000760\n",
              "dtype: float64"
            ]
          },
          "metadata": {},
          "execution_count": 31
        }
      ]
    },
    {
      "cell_type": "code",
      "source": [
        "features_size = list(effSize_craimer.loc[lambda x : x > 0.2].index)"
      ],
      "metadata": {
        "id": "N-Z1iTn5APYn"
      },
      "execution_count": 32,
      "outputs": []
    },
    {
      "cell_type": "code",
      "source": [
        "features_size_rem = list(effSize_craimer.loc[lambda x : x <= 0.2].index)"
      ],
      "metadata": {
        "id": "55Dh3xthDv2R"
      },
      "execution_count": 33,
      "outputs": []
    },
    {
      "cell_type": "code",
      "source": [
        "features_size"
      ],
      "metadata": {
        "colab": {
          "base_uri": "https://localhost:8080/"
        },
        "id": "V87MaBm3AgS0",
        "outputId": "71be16e7-29db-4c4a-d498-51d47c855983"
      },
      "execution_count": 34,
      "outputs": [
        {
          "output_type": "execute_result",
          "data": {
            "text/plain": [
              "['Prem',\n",
              " 'is_ride_share',\n",
              " 'gross_weight',\n",
              " 'airbags',\n",
              " 'transmission_type',\n",
              " 'is_parking_camera',\n",
              " 'is_rear_window_wiper',\n",
              " 'make',\n",
              " 'is_rear_window_defogger',\n",
              " 'Safety_rating',\n",
              " 'is_tpms',\n",
              " 'rear_brakes_type']"
            ]
          },
          "metadata": {},
          "execution_count": 34
        }
      ]
    },
    {
      "cell_type": "code",
      "source": [
        "features_size_rem"
      ],
      "metadata": {
        "colab": {
          "base_uri": "https://localhost:8080/"
        },
        "id": "GV-SCPYejo5i",
        "outputId": "a606c9b1-11a3-49f0-b27f-6db464b0b632"
      },
      "execution_count": 35,
      "outputs": [
        {
          "output_type": "execute_result",
          "data": {
            "text/plain": [
              "['steering_type',\n",
              " 'fuel_type',\n",
              " 'is_power_steering',\n",
              " 'cylinder',\n",
              " 'is_brake_assist',\n",
              " 'is_driver_seat_height_adjustable',\n",
              " 'is_adjustable_steering',\n",
              " 'is_central_locking',\n",
              " 'is_parking_sensors',\n",
              " 'population_density',\n",
              " 'area_cluster',\n",
              " 'is_day_night_rear_view_mirror',\n",
              " 'age_driver',\n",
              " 'License_Type',\n",
              " 'is_speed_alert']"
            ]
          },
          "metadata": {},
          "execution_count": 35
        }
      ]
    },
    {
      "cell_type": "markdown",
      "source": [
        "## Chi-squared"
      ],
      "metadata": {
        "id": "F5mlbH5iAojJ"
      }
    },
    {
      "cell_type": "code",
      "source": [
        "# X = X[features_size]\n",
        "X = X.drop(features_size_rem, axis=1)\n",
        "test = SelectKBest(score_func=chi2)\n",
        "fit = test.fit(X, y)"
      ],
      "metadata": {
        "id": "vngTHQ5az5Qf"
      },
      "execution_count": 36,
      "outputs": []
    },
    {
      "cell_type": "code",
      "source": [
        "p_val = pd.Series(fit.pvalues_,index = X.columns).sort_values(ascending = True)"
      ],
      "metadata": {
        "id": "Mj2RyhGqz5NG"
      },
      "execution_count": 37,
      "outputs": []
    },
    {
      "cell_type": "code",
      "source": [
        "features_test = [i for i in p_val.index if p_val[i] <= 0.05]\n",
        "features_rem = [i for i in p_val.index if p_val[i] > 0.05]"
      ],
      "metadata": {
        "id": "hH7f02p5z5Ka"
      },
      "execution_count": 38,
      "outputs": []
    },
    {
      "cell_type": "code",
      "source": [
        "features_test"
      ],
      "metadata": {
        "colab": {
          "base_uri": "https://localhost:8080/"
        },
        "id": "2aj0JCSmDoXJ",
        "outputId": "adb08f05-7a0a-444d-dc89-732086949bcd"
      },
      "execution_count": 39,
      "outputs": [
        {
          "output_type": "execute_result",
          "data": {
            "text/plain": [
              "['is_ride_share',\n",
              " 'airbags',\n",
              " 'is_tpms',\n",
              " 'is_parking_camera',\n",
              " 'rear_brakes_type',\n",
              " 'transmission_type',\n",
              " 'gross_weight',\n",
              " 'is_rear_window_wiper',\n",
              " 'is_rear_window_defogger',\n",
              " 'Prem',\n",
              " 'make',\n",
              " 'Safety_rating']"
            ]
          },
          "metadata": {},
          "execution_count": 39
        }
      ]
    },
    {
      "cell_type": "code",
      "source": [
        "features_rem"
      ],
      "metadata": {
        "colab": {
          "base_uri": "https://localhost:8080/"
        },
        "id": "cQbdO6Dv0QZ-",
        "outputId": "9816c8b2-0289-436e-e7b5-dd18e9dad17f"
      },
      "execution_count": 40,
      "outputs": [
        {
          "output_type": "execute_result",
          "data": {
            "text/plain": [
              "[]"
            ]
          },
          "metadata": {},
          "execution_count": 40
        }
      ]
    },
    {
      "cell_type": "markdown",
      "source": [
        "# Split"
      ],
      "metadata": {
        "id": "wiAxJOy70dXH"
      }
    },
    {
      "cell_type": "markdown",
      "source": [
        "## Imbalanced"
      ],
      "metadata": {
        "id": "VEY_QFEe4l3r"
      }
    },
    {
      "cell_type": "markdown",
      "source": [
        "### All Features"
      ],
      "metadata": {
        "id": "McmXEEzo0uqn"
      }
    },
    {
      "cell_type": "code",
      "source": [
        "X_all = df.drop('is_claim', axis=1)\n",
        "y_all = df['is_claim']"
      ],
      "metadata": {
        "id": "twlrQlZo0snG"
      },
      "execution_count": 41,
      "outputs": []
    },
    {
      "cell_type": "code",
      "source": [
        "X_train, X_test, y_train, y_test = train_test_split(X_all, y_all, test_size=0.3, random_state=1234)"
      ],
      "metadata": {
        "id": "sRFiFpGN0XZy"
      },
      "execution_count": 42,
      "outputs": []
    },
    {
      "cell_type": "markdown",
      "source": [
        "### Selected Features"
      ],
      "metadata": {
        "id": "OivNQnnA05Ga"
      }
    },
    {
      "cell_type": "code",
      "source": [
        "X_few = df.drop(['is_claim'], axis=1)\n",
        "X_few = X_few[features_test]\n",
        "y_few = df['is_claim']"
      ],
      "metadata": {
        "id": "cjpgN-Xq0mho"
      },
      "execution_count": 43,
      "outputs": []
    },
    {
      "cell_type": "code",
      "source": [
        "X_train_few, X_test_few, y_train_few, y_test_few = train_test_split(X_few, y_few, test_size=0.3, random_state=1234)"
      ],
      "metadata": {
        "id": "L9wr1jgh0meG"
      },
      "execution_count": 44,
      "outputs": []
    },
    {
      "cell_type": "markdown",
      "source": [
        "## Balanced"
      ],
      "metadata": {
        "id": "ehARk3ml4rqz"
      }
    },
    {
      "cell_type": "markdown",
      "source": [
        "SMOTE Oversampling method for data imbalance was selected.\n",
        "\n",
        "Alternatively, wrapper methods such as Forward Selection, Backward Elimination, and Recursive Feature Elimination may be considered."
      ],
      "metadata": {
        "id": "ZKivrWv6oLWo"
      }
    },
    {
      "cell_type": "markdown",
      "source": [
        "### All Features"
      ],
      "metadata": {
        "id": "I7hQ7f9i4rq0"
      }
    },
    {
      "cell_type": "code",
      "source": [
        "print(f\"Before OverSampling count of 1: {sum(y_train==1)}\")\n",
        "print(f\"Before OverSampling count of 0: {sum(y_train==0)}\")"
      ],
      "metadata": {
        "colab": {
          "base_uri": "https://localhost:8080/"
        },
        "id": "uTdt_6dY408l",
        "outputId": "5e0f8183-0b29-41e5-b1d4-f32f788488f3"
      },
      "execution_count": 45,
      "outputs": [
        {
          "output_type": "stream",
          "name": "stdout",
          "text": [
            "Before OverSampling count of 1: 6758\n",
            "Before OverSampling count of 0: 34256\n"
          ]
        }
      ]
    },
    {
      "cell_type": "code",
      "source": [
        "oversampler= sv.SMOTE()\n",
        "X_train_bal, y_train_bal = oversampler.sample(np.array(X_train), np.array(y_train))"
      ],
      "metadata": {
        "colab": {
          "base_uri": "https://localhost:8080/"
        },
        "id": "zlmru_d04rq0",
        "outputId": "f476874a-a923-430a-934a-997094e18a31"
      },
      "execution_count": 46,
      "outputs": [
        {
          "output_type": "stream",
          "name": "stderr",
          "text": [
            "2023-05-09 18:51:33,011:INFO:SMOTE: Running sampling via ('SMOTE', \"{'proportion': 1.0, 'n_neighbors': 5, 'nn_params': {}, 'n_jobs': 1, 'ss_params': {'n_dim': 2, 'simplex_sampling': 'random', 'within_simplex_sampling': 'random', 'gaussian_component': {}}, 'random_state': None, 'class_name': 'SMOTE'}\")\n",
            "INFO:smote_variants:SMOTE: Running sampling via ('SMOTE', \"{'proportion': 1.0, 'n_neighbors': 5, 'nn_params': {}, 'n_jobs': 1, 'ss_params': {'n_dim': 2, 'simplex_sampling': 'random', 'within_simplex_sampling': 'random', 'gaussian_component': {}}, 'random_state': None, 'class_name': 'SMOTE'}\")\n",
            "2023-05-09 18:51:33,019:INFO:NearestNeighborsWithMetricTensor: NN fitting with metric minkowski\n",
            "INFO:smote_variants:NearestNeighborsWithMetricTensor: NN fitting with metric minkowski\n",
            "2023-05-09 18:51:33,025:INFO:NearestNeighborsWithMetricTensor: kneighbors query minkowski\n",
            "INFO:smote_variants:NearestNeighborsWithMetricTensor: kneighbors query minkowski\n",
            "2023-05-09 18:51:33,517:INFO:SMOTE: simplex sampling with n_dim 2\n",
            "INFO:smote_variants:SMOTE: simplex sampling with n_dim 2\n"
          ]
        }
      ]
    },
    {
      "cell_type": "code",
      "source": [
        "print('After OverSampling, the shape of train_X: {}'.format(X_train_bal.shape))\n",
        "print('After OverSampling, the shape of train_y: {} \\n'.format(X_train_bal.shape))\n",
        "print(\"After OverSampling, counts of label 1: {}\".format(sum(y_train_bal==1)))\n",
        "print(\"After OverSampling, counts of label 0: {}\".format(sum(y_train_bal==1)))"
      ],
      "metadata": {
        "colab": {
          "base_uri": "https://localhost:8080/"
        },
        "id": "bJPhc2VS4rq0",
        "outputId": "507c2ce6-60af-48fd-d984-15b7466057a3"
      },
      "execution_count": 47,
      "outputs": [
        {
          "output_type": "stream",
          "name": "stdout",
          "text": [
            "After OverSampling, the shape of train_X: (68512, 27)\n",
            "After OverSampling, the shape of train_y: (68512, 27) \n",
            "\n",
            "After OverSampling, counts of label 1: 34256\n",
            "After OverSampling, counts of label 0: 34256\n"
          ]
        }
      ]
    },
    {
      "cell_type": "code",
      "source": [
        "trainData = pd.concat([X_train,y_train],axis=1)"
      ],
      "metadata": {
        "id": "C3ZNcM5D5NEq"
      },
      "execution_count": 48,
      "outputs": []
    },
    {
      "cell_type": "code",
      "source": [
        "ind = trainData[trainData['is_claim']==1].index\n",
        "print(len(ind))"
      ],
      "metadata": {
        "colab": {
          "base_uri": "https://localhost:8080/"
        },
        "id": "HJjvgxe65NBG",
        "outputId": "47ac9aa0-5f83-49a7-e760-67170bd8fa47"
      },
      "execution_count": 49,
      "outputs": [
        {
          "output_type": "stream",
          "name": "stdout",
          "text": [
            "6758\n"
          ]
        }
      ]
    },
    {
      "cell_type": "code",
      "source": [
        "minData = trainData.loc[ind]\n",
        "print(minData.shape)"
      ],
      "metadata": {
        "colab": {
          "base_uri": "https://localhost:8080/"
        },
        "id": "F5VdVlCN5UsR",
        "outputId": "1b44f314-42ad-4ac9-f2f9-7ffea2f780e6"
      },
      "execution_count": 50,
      "outputs": [
        {
          "output_type": "stream",
          "name": "stdout",
          "text": [
            "(6758, 28)\n"
          ]
        }
      ]
    },
    {
      "cell_type": "code",
      "source": [
        "ind1 = trainData[trainData['is_claim']==0].index\n",
        "print(len(ind1))"
      ],
      "metadata": {
        "colab": {
          "base_uri": "https://localhost:8080/"
        },
        "id": "ehrdN8K35Upu",
        "outputId": "a62ad559-742c-4cbb-e768-da9c1aa697af"
      },
      "execution_count": 51,
      "outputs": [
        {
          "output_type": "stream",
          "name": "stdout",
          "text": [
            "34256\n"
          ]
        }
      ]
    },
    {
      "cell_type": "code",
      "source": [
        "majData = trainData.loc[ind1]\n",
        "print(majData.shape)"
      ],
      "metadata": {
        "colab": {
          "base_uri": "https://localhost:8080/"
        },
        "id": "M-p5fXKQ5Una",
        "outputId": "74e48560-4052-4919-a97c-49f43793be7b"
      },
      "execution_count": 52,
      "outputs": [
        {
          "output_type": "stream",
          "name": "stdout",
          "text": [
            "(34256, 28)\n"
          ]
        }
      ]
    },
    {
      "cell_type": "code",
      "source": [
        "majSample = majData.sample(n=len(ind),random_state = 1234)"
      ],
      "metadata": {
        "id": "P3wYT2px5M-Y"
      },
      "execution_count": 53,
      "outputs": []
    },
    {
      "cell_type": "code",
      "source": [
        "balData = pd.concat([minData,majSample],axis = 0)"
      ],
      "metadata": {
        "id": "lp3Yfm-h5bBY"
      },
      "execution_count": 54,
      "outputs": []
    },
    {
      "cell_type": "code",
      "source": [
        "balData.shape"
      ],
      "metadata": {
        "colab": {
          "base_uri": "https://localhost:8080/"
        },
        "id": "Ytx1NsY2qPhC",
        "outputId": "6ea62a15-e3f3-46df-fa5d-6dbd17ffe812"
      },
      "execution_count": 55,
      "outputs": [
        {
          "output_type": "execute_result",
          "data": {
            "text/plain": [
              "(13516, 28)"
            ]
          },
          "metadata": {},
          "execution_count": 55
        }
      ]
    },
    {
      "cell_type": "code",
      "source": [
        "balData = shuffle(balData)"
      ],
      "metadata": {
        "id": "yDV1Fw5Z5a-y"
      },
      "execution_count": 56,
      "outputs": []
    },
    {
      "cell_type": "code",
      "source": [
        "balData.shape"
      ],
      "metadata": {
        "colab": {
          "base_uri": "https://localhost:8080/"
        },
        "id": "QyIqOMvgqURq",
        "outputId": "8b5f7782-9ec8-4f2a-9962-09a65d5b3964"
      },
      "execution_count": 57,
      "outputs": [
        {
          "output_type": "execute_result",
          "data": {
            "text/plain": [
              "(13516, 28)"
            ]
          },
          "metadata": {},
          "execution_count": 57
        }
      ]
    },
    {
      "cell_type": "code",
      "source": [
        "X_train_bal = balData.drop('is_claim', axis=1)\n",
        "y_train_bal = balData['is_claim']"
      ],
      "metadata": {
        "id": "4fFNXTvW5a8Y"
      },
      "execution_count": 58,
      "outputs": []
    },
    {
      "cell_type": "markdown",
      "source": [
        "### Seleted Features"
      ],
      "metadata": {
        "id": "pZlafVRj5s71"
      }
    },
    {
      "cell_type": "code",
      "source": [
        "print(f\"Before OverSampling count of 1: {sum(y_train_few==1)}\")\n",
        "print(f\"Before OverSampling count of 0: {sum(y_train_few==0)}\")"
      ],
      "metadata": {
        "colab": {
          "base_uri": "https://localhost:8080/"
        },
        "outputId": "8ff0a3cd-117d-465d-87ec-ed5d3daca31a",
        "id": "h8N9hbML5s72"
      },
      "execution_count": 59,
      "outputs": [
        {
          "output_type": "stream",
          "name": "stdout",
          "text": [
            "Before OverSampling count of 1: 6758\n",
            "Before OverSampling count of 0: 34256\n"
          ]
        }
      ]
    },
    {
      "cell_type": "code",
      "source": [
        "oversampler= sv.SMOTE()\n",
        "X_train_bal_few, y_train_bal_few = oversampler.sample(np.array(X_train_few), np.array(y_train_few))"
      ],
      "metadata": {
        "colab": {
          "base_uri": "https://localhost:8080/"
        },
        "outputId": "94a290ec-216d-4a22-d127-928a79e3bcad",
        "id": "tWbIfHyT5s73"
      },
      "execution_count": 60,
      "outputs": [
        {
          "output_type": "stream",
          "name": "stderr",
          "text": [
            "2023-05-09 18:51:34,557:INFO:SMOTE: Running sampling via ('SMOTE', \"{'proportion': 1.0, 'n_neighbors': 5, 'nn_params': {}, 'n_jobs': 1, 'ss_params': {'n_dim': 2, 'simplex_sampling': 'random', 'within_simplex_sampling': 'random', 'gaussian_component': {}}, 'random_state': None, 'class_name': 'SMOTE'}\")\n",
            "INFO:smote_variants:SMOTE: Running sampling via ('SMOTE', \"{'proportion': 1.0, 'n_neighbors': 5, 'nn_params': {}, 'n_jobs': 1, 'ss_params': {'n_dim': 2, 'simplex_sampling': 'random', 'within_simplex_sampling': 'random', 'gaussian_component': {}}, 'random_state': None, 'class_name': 'SMOTE'}\")\n",
            "2023-05-09 18:51:34,565:INFO:NearestNeighborsWithMetricTensor: NN fitting with metric minkowski\n",
            "INFO:smote_variants:NearestNeighborsWithMetricTensor: NN fitting with metric minkowski\n",
            "2023-05-09 18:51:34,587:INFO:NearestNeighborsWithMetricTensor: kneighbors query minkowski\n",
            "INFO:smote_variants:NearestNeighborsWithMetricTensor: kneighbors query minkowski\n",
            "2023-05-09 18:51:34,666:INFO:SMOTE: simplex sampling with n_dim 2\n",
            "INFO:smote_variants:SMOTE: simplex sampling with n_dim 2\n"
          ]
        }
      ]
    },
    {
      "cell_type": "code",
      "source": [
        "print('After OverSampling, the shape of train_X: {}'.format(X_train_bal_few.shape))\n",
        "print('After OverSampling, the shape of train_y: {} \\n'.format(X_train_bal_few.shape))\n",
        "print(\"After OverSampling, counts of label 1: {}\".format(sum(y_train_bal_few==1)))\n",
        "print(\"After OverSampling, counts of label 0: {}\".format(sum(y_train_bal_few==1)))"
      ],
      "metadata": {
        "colab": {
          "base_uri": "https://localhost:8080/"
        },
        "outputId": "b16927b1-c534-481e-ed46-af5162260b28",
        "id": "fBZ1gtpD5s73"
      },
      "execution_count": 61,
      "outputs": [
        {
          "output_type": "stream",
          "name": "stdout",
          "text": [
            "After OverSampling, the shape of train_X: (68512, 12)\n",
            "After OverSampling, the shape of train_y: (68512, 12) \n",
            "\n",
            "After OverSampling, counts of label 1: 34256\n",
            "After OverSampling, counts of label 0: 34256\n"
          ]
        }
      ]
    },
    {
      "cell_type": "code",
      "source": [
        "trainData_few = pd.concat([X_train_few,y_train_few],axis=1)"
      ],
      "metadata": {
        "id": "oCibbU1I5s74"
      },
      "execution_count": 62,
      "outputs": []
    },
    {
      "cell_type": "code",
      "source": [
        "ind_few = trainData_few[trainData_few['is_claim']==1].index\n",
        "print(len(ind_few))"
      ],
      "metadata": {
        "colab": {
          "base_uri": "https://localhost:8080/"
        },
        "outputId": "bfdf8f31-0841-49f3-def5-846665b00e5e",
        "id": "K8PgB4Dr5s74"
      },
      "execution_count": 63,
      "outputs": [
        {
          "output_type": "stream",
          "name": "stdout",
          "text": [
            "6758\n"
          ]
        }
      ]
    },
    {
      "cell_type": "code",
      "source": [
        "minData_few = trainData_few.loc[ind_few]\n",
        "print(minData_few.shape)"
      ],
      "metadata": {
        "colab": {
          "base_uri": "https://localhost:8080/"
        },
        "outputId": "8c7b98da-d36d-450b-80a4-3792cafcc8bd",
        "id": "9pzY3o-u5s74"
      },
      "execution_count": 64,
      "outputs": [
        {
          "output_type": "stream",
          "name": "stdout",
          "text": [
            "(6758, 13)\n"
          ]
        }
      ]
    },
    {
      "cell_type": "code",
      "source": [
        "ind1_few = trainData_few[trainData_few['is_claim']==0].index\n",
        "print(len(ind1_few))"
      ],
      "metadata": {
        "colab": {
          "base_uri": "https://localhost:8080/"
        },
        "outputId": "ef2cc18f-0fda-4e9f-9043-838432397ea7",
        "id": "m259OI4f5s74"
      },
      "execution_count": 65,
      "outputs": [
        {
          "output_type": "stream",
          "name": "stdout",
          "text": [
            "34256\n"
          ]
        }
      ]
    },
    {
      "cell_type": "code",
      "source": [
        "majData_few = trainData_few.loc[ind1_few]\n",
        "print(majData_few.shape)"
      ],
      "metadata": {
        "colab": {
          "base_uri": "https://localhost:8080/"
        },
        "outputId": "a7bdbd9d-7aaa-4686-a77d-c787e8364f4c",
        "id": "E_TsU0e65s74"
      },
      "execution_count": 66,
      "outputs": [
        {
          "output_type": "stream",
          "name": "stdout",
          "text": [
            "(34256, 13)\n"
          ]
        }
      ]
    },
    {
      "cell_type": "code",
      "source": [
        "majSample_few = majData_few.sample(n=len(ind_few),random_state = 1234)"
      ],
      "metadata": {
        "id": "FNxBaZwq5s74"
      },
      "execution_count": 67,
      "outputs": []
    },
    {
      "cell_type": "code",
      "source": [
        "balData_few = pd.concat([minData_few,majSample_few],axis = 0)"
      ],
      "metadata": {
        "id": "EuRqGCTL5s74"
      },
      "execution_count": 68,
      "outputs": []
    },
    {
      "cell_type": "code",
      "source": [
        "balData_few = shuffle(balData_few)"
      ],
      "metadata": {
        "id": "K-_D_YW05s75"
      },
      "execution_count": 69,
      "outputs": []
    },
    {
      "cell_type": "code",
      "source": [
        "X_train_bal_few = balData_few.drop('is_claim', axis=1)\n",
        "y_train_bal_few = balData_few['is_claim']"
      ],
      "metadata": {
        "id": "imd3RifZ5s75"
      },
      "execution_count": 70,
      "outputs": []
    },
    {
      "cell_type": "markdown",
      "source": [
        "# Model Selection - DTree"
      ],
      "metadata": {
        "id": "vTiFgHbm-0Ov"
      }
    },
    {
      "cell_type": "markdown",
      "source": [
        "## Imbalanced Data"
      ],
      "metadata": {
        "id": "mtZ3zyrW-0Ow"
      }
    },
    {
      "cell_type": "markdown",
      "source": [
        "### All Features"
      ],
      "metadata": {
        "id": "BniNsvic-0Ox"
      }
    },
    {
      "cell_type": "code",
      "source": [
        "dt_model = DecisionTreeClassifier(max_depth=4)\n",
        "dt_model.fit(X_train, y_train)\n",
        "dt_model_y_pred = dt_model.predict(X_test)"
      ],
      "metadata": {
        "id": "-lBZhf-Y-0Ox"
      },
      "execution_count": 71,
      "outputs": []
    },
    {
      "cell_type": "markdown",
      "source": [
        "#### test fo over/under fitting"
      ],
      "metadata": {
        "id": "DtKDZ0A-rtn5"
      }
    },
    {
      "cell_type": "code",
      "source": [
        "dt_model_y_pred_test = dt_model.predict(X_test)\n",
        "dt_model_y_pred_train = dt_model.predict(X_train)\n",
        "\n",
        "test_acc = accuracy_score(y_test, dt_model_y_pred_test)\n",
        "train_acc = accuracy_score(y_train, dt_model_y_pred_train)\n",
        "\n",
        "print(\"Train accuracy:\", train_acc)\n",
        "print(\"Test accuracy:\", test_acc)"
      ],
      "metadata": {
        "colab": {
          "base_uri": "https://localhost:8080/"
        },
        "outputId": "3c5af7ed-d5d1-4dd9-c9c2-18d34f795cd1",
        "id": "_dQoobfu-0Oy"
      },
      "execution_count": 72,
      "outputs": [
        {
          "output_type": "stream",
          "name": "stdout",
          "text": [
            "Train accuracy: 0.858462963865997\n",
            "Test accuracy: 0.8555580839685971\n"
          ]
        }
      ]
    },
    {
      "cell_type": "markdown",
      "source": [
        "### Selected Features"
      ],
      "metadata": {
        "id": "7tRV4RB9-0Oz"
      }
    },
    {
      "cell_type": "code",
      "source": [
        "dt_model_few = DecisionTreeClassifier(max_depth=4)\n",
        "dt_model_few.fit(X_train_few, y_train_few)\n",
        "dt_model_y_pred_few = dt_model_few.predict(X_test_few)"
      ],
      "metadata": {
        "id": "s3sljijZ-0Oz"
      },
      "execution_count": 73,
      "outputs": []
    },
    {
      "cell_type": "markdown",
      "source": [
        "#### test fo over/under fitting"
      ],
      "metadata": {
        "id": "qlPoFxE5r915"
      }
    },
    {
      "cell_type": "code",
      "source": [
        "dt_model_y_pred_few_test = dt_model_few.predict(X_test_few)\n",
        "dt_model_y_pred_few_train = dt_model_few.predict(X_train_few)\n",
        "\n",
        "test_acc = accuracy_score(y_test, dt_model_y_pred_few_test)\n",
        "train_acc = accuracy_score(y_train, dt_model_y_pred_few_train)\n",
        "\n",
        "print(\"Train accuracy:\", train_acc)\n",
        "print(\"Test accuracy:\", test_acc)"
      ],
      "metadata": {
        "colab": {
          "base_uri": "https://localhost:8080/"
        },
        "outputId": "873baf16-8f5e-49c1-b04a-0227537ebcb2",
        "id": "Smu6ByAu-0Oz"
      },
      "execution_count": 74,
      "outputs": [
        {
          "output_type": "stream",
          "name": "stdout",
          "text": [
            "Train accuracy: 0.8584142000292583\n",
            "Test accuracy: 0.8543634088064627\n"
          ]
        }
      ]
    },
    {
      "cell_type": "markdown",
      "source": [
        "## Balanced Data"
      ],
      "metadata": {
        "id": "EdfXNEBa-0Oz"
      }
    },
    {
      "cell_type": "markdown",
      "source": [
        "### All Features"
      ],
      "metadata": {
        "id": "zwYlYJ21-0Oz"
      }
    },
    {
      "cell_type": "code",
      "source": [
        "dt_model_bal = DecisionTreeClassifier(max_depth=4)\n",
        "dt_model_bal.fit(X_train_bal, y_train_bal)\n",
        "dt_model_y_pred_bal = dt_model_bal.predict(X_test)"
      ],
      "metadata": {
        "id": "XqCDciF_-0Oz"
      },
      "execution_count": 75,
      "outputs": []
    },
    {
      "cell_type": "markdown",
      "source": [
        "#### test fo over/under fitting"
      ],
      "metadata": {
        "id": "iaIGhC-FsX-G"
      }
    },
    {
      "cell_type": "code",
      "source": [
        "dt_model_y_pred_bal_test = dt_model_bal.predict(X_test)\n",
        "dt_model_y_pred_bal_train = dt_model_bal.predict(X_train)\n",
        "\n",
        "test_acc = accuracy_score(y_test, dt_model_y_pred_bal_test)\n",
        "train_acc = accuracy_score(y_train, dt_model_y_pred_bal_train)\n",
        "\n",
        "print(\"Train accuracy:\", train_acc)\n",
        "print(\"Test accuracy:\", test_acc)"
      ],
      "metadata": {
        "colab": {
          "base_uri": "https://localhost:8080/"
        },
        "outputId": "3c0b18ab-6901-4d6c-83a5-814a9e51dad5",
        "id": "4Ufd_9sK-0O0"
      },
      "execution_count": 76,
      "outputs": [
        {
          "output_type": "stream",
          "name": "stdout",
          "text": [
            "Train accuracy: 0.850002438191837\n",
            "Test accuracy: 0.844123335988167\n"
          ]
        }
      ]
    },
    {
      "cell_type": "markdown",
      "source": [
        "### Selected Features"
      ],
      "metadata": {
        "id": "XpC0cgaO-0O0"
      }
    },
    {
      "cell_type": "code",
      "source": [
        "dt_model_bal_few = DecisionTreeClassifier(max_depth=4)\n",
        "dt_model_bal_few.fit(X_train_bal_few, y_train_bal_few)\n",
        "dt_model_y_pred_bal_few = dt_model_bal_few.predict(X_test_few)"
      ],
      "metadata": {
        "id": "MilBhj6D-0O0"
      },
      "execution_count": 77,
      "outputs": []
    },
    {
      "cell_type": "markdown",
      "source": [
        "#### test fo over/under fitting"
      ],
      "metadata": {
        "id": "Jdt0vg3bsZCQ"
      }
    },
    {
      "cell_type": "code",
      "source": [
        "dt_model_y_pred_bal_few_test = dt_model_bal_few.predict(X_test_few)\n",
        "dt_model_y_pred_bal_few_train = dt_model_bal_few.predict(X_train_few)\n",
        "\n",
        "test_acc = accuracy_score(y_test, dt_model_y_pred_bal_few_test)\n",
        "train_acc = accuracy_score(y_train, dt_model_y_pred_bal_few_train)\n",
        "\n",
        "print(\"Train accuracy:\", train_acc)\n",
        "print(\"Test accuracy:\", test_acc)"
      ],
      "metadata": {
        "colab": {
          "base_uri": "https://localhost:8080/"
        },
        "outputId": "5f3dabe6-e2e2-4bec-9192-56fcd50b9528",
        "id": "7DAiYvOr-0O0"
      },
      "execution_count": 78,
      "outputs": [
        {
          "output_type": "stream",
          "name": "stdout",
          "text": [
            "Train accuracy: 0.8569025210903594\n",
            "Test accuracy: 0.8531687336443281\n"
          ]
        }
      ]
    },
    {
      "cell_type": "markdown",
      "source": [
        "# Evaluation - DTree"
      ],
      "metadata": {
        "id": "X0EBDZeY_vAg"
      }
    },
    {
      "cell_type": "markdown",
      "source": [
        "## Imbalanced Data"
      ],
      "metadata": {
        "id": "EF9H0x6D_vAg"
      }
    },
    {
      "cell_type": "markdown",
      "source": [
        "### All Features"
      ],
      "metadata": {
        "id": "qIC51kiYSdH1"
      }
    },
    {
      "cell_type": "code",
      "source": [
        "dt_model_confmat = confusion_matrix(y_test, dt_model_y_pred)\n",
        "dt_model_confmat_disp = ConfusionMatrixDisplay(confusion_matrix=dt_model_confmat,display_labels=dt_model.classes_)\n",
        "dt_model_confmat_disp.confusion_matrix"
      ],
      "metadata": {
        "colab": {
          "base_uri": "https://localhost:8080/"
        },
        "outputId": "99558534-9b80-4e0b-d499-1d0e004e4370",
        "id": "t-XGRzVi_vAh"
      },
      "execution_count": 79,
      "outputs": [
        {
          "output_type": "execute_result",
          "data": {
            "text/plain": [
              "array([[13126,  1493],\n",
              "       [ 1046,  1913]])"
            ]
          },
          "metadata": {},
          "execution_count": 79
        }
      ]
    },
    {
      "cell_type": "code",
      "source": [
        "accuracy_score(y_test, dt_model_y_pred)"
      ],
      "metadata": {
        "colab": {
          "base_uri": "https://localhost:8080/"
        },
        "outputId": "ebd2cae2-4765-442b-c9de-2ed1e219c5f3",
        "id": "iGwBQLZ8_vAh"
      },
      "execution_count": 80,
      "outputs": [
        {
          "output_type": "execute_result",
          "data": {
            "text/plain": [
              "0.8555580839685971"
            ]
          },
          "metadata": {},
          "execution_count": 80
        }
      ]
    },
    {
      "cell_type": "code",
      "source": [
        "precision_score(y_test, dt_model_y_pred)"
      ],
      "metadata": {
        "colab": {
          "base_uri": "https://localhost:8080/"
        },
        "outputId": "d3582642-8cb7-4f5d-fa53-6a8179e947f9",
        "id": "o8AYhA7Z_vAh"
      },
      "execution_count": 81,
      "outputs": [
        {
          "output_type": "execute_result",
          "data": {
            "text/plain": [
              "0.5616559013505579"
            ]
          },
          "metadata": {},
          "execution_count": 81
        }
      ]
    },
    {
      "cell_type": "code",
      "source": [
        "recall_score(y_test, dt_model_y_pred) "
      ],
      "metadata": {
        "colab": {
          "base_uri": "https://localhost:8080/"
        },
        "outputId": "a426dc70-26c3-4a75-f6e9-c32beaf4aaf2",
        "id": "14dU5WDf_vAh"
      },
      "execution_count": 82,
      "outputs": [
        {
          "output_type": "execute_result",
          "data": {
            "text/plain": [
              "0.6465021966880703"
            ]
          },
          "metadata": {},
          "execution_count": 82
        }
      ]
    },
    {
      "cell_type": "code",
      "source": [
        "imp_df = pd.DataFrame(\n",
        "    {\"Feature Name\": X_train.columns,\n",
        "     \"Importance\": dt_model.feature_importances_})\n",
        "\n",
        "fi = imp_df.sort_values(by=\"Importance\", ascending=False)\n",
        "fi_top5 = fi.head()\n",
        "\n",
        "plt.figure(figsize=(10,6))\n",
        "sns.barplot(data=fi_top5, x=\"Importance\", y=\"Feature Name\")\n",
        "plt.title(\"Top 5 Feature Importance - All Features - Imbalanced - Decision Tree\", fontsize=18)\n",
        "plt.xlabel(\"Importance\", fontsize=16)\n",
        "plt.ylabel(\"Feature Name\", fontsize=16)\n",
        "plt.show()"
      ],
      "metadata": {
        "colab": {
          "base_uri": "https://localhost:8080/",
          "height": 575
        },
        "id": "vBALHcWfw_K-",
        "outputId": "a04fb3ba-55e4-44ab-833b-21a51a4404e4"
      },
      "execution_count": 83,
      "outputs": [
        {
          "output_type": "display_data",
          "data": {
            "text/plain": [
              "<Figure size 1000x600 with 1 Axes>"
            ],
            "image/png": "[encoded data removed]"
          },
          "metadata": {}
        }
      ]
    },
    {
      "cell_type": "markdown",
      "source": [
        "### Selected Features"
      ],
      "metadata": {
        "id": "M-lQRItN_vAh"
      }
    },
    {
      "cell_type": "code",
      "source": [
        "dt_model_confmat = confusion_matrix(y_test_few, dt_model_y_pred_few)\n",
        "dt_model_confmat_disp = ConfusionMatrixDisplay(confusion_matrix=dt_model_confmat,display_labels=dt_model.classes_)\n",
        "dt_model_confmat_disp.confusion_matrix"
      ],
      "metadata": {
        "colab": {
          "base_uri": "https://localhost:8080/"
        },
        "outputId": "c82814ea-2309-4456-920e-d06aa9a38bb0",
        "id": "UhXEtcOj_vAh"
      },
      "execution_count": 84,
      "outputs": [
        {
          "output_type": "execute_result",
          "data": {
            "text/plain": [
              "array([[13164,  1455],\n",
              "       [ 1105,  1854]])"
            ]
          },
          "metadata": {},
          "execution_count": 84
        }
      ]
    },
    {
      "cell_type": "code",
      "source": [
        "accuracy_score(y_test_few, dt_model_y_pred_few)"
      ],
      "metadata": {
        "colab": {
          "base_uri": "https://localhost:8080/"
        },
        "outputId": "5cba12cc-224c-4fa2-c29f-3178127caab7",
        "id": "XMlvKZMk_vAh"
      },
      "execution_count": 85,
      "outputs": [
        {
          "output_type": "execute_result",
          "data": {
            "text/plain": [
              "0.8543634088064627"
            ]
          },
          "metadata": {},
          "execution_count": 85
        }
      ]
    },
    {
      "cell_type": "code",
      "source": [
        "precision_score(y_test_few, dt_model_y_pred_few)"
      ],
      "metadata": {
        "colab": {
          "base_uri": "https://localhost:8080/"
        },
        "outputId": "a11c9b67-8428-44cc-af39-294e3fecf079",
        "id": "ek0sUYT0_vAi"
      },
      "execution_count": 86,
      "outputs": [
        {
          "output_type": "execute_result",
          "data": {
            "text/plain": [
              "0.5602901178603807"
            ]
          },
          "metadata": {},
          "execution_count": 86
        }
      ]
    },
    {
      "cell_type": "code",
      "source": [
        "recall_score(y_test_few, dt_model_y_pred_few) "
      ],
      "metadata": {
        "colab": {
          "base_uri": "https://localhost:8080/"
        },
        "outputId": "d404048e-3cfd-42ee-f6e1-d143a4795ee5",
        "id": "8VxEf7o1_vAi"
      },
      "execution_count": 87,
      "outputs": [
        {
          "output_type": "execute_result",
          "data": {
            "text/plain": [
              "0.6265630280500168"
            ]
          },
          "metadata": {},
          "execution_count": 87
        }
      ]
    },
    {
      "cell_type": "code",
      "source": [
        "imp_df = pd.DataFrame(\n",
        "    {\"Feature Name\": X_train_few.columns,\n",
        "     \"Importance\": dt_model_few.feature_importances_})\n",
        "\n",
        "fi = imp_df.sort_values(by=\"Importance\", ascending=False)\n",
        "fi_top5 = fi.head()\n",
        "\n",
        "plt.figure(figsize=(10,6))\n",
        "sns.barplot(data=fi_top5, x=\"Importance\", y=\"Feature Name\")\n",
        "plt.title(\"Top 5 Feature Importance - Selected Features - Imbalanced - Decision Tree\", fontsize=18)\n",
        "plt.xlabel(\"Importance\", fontsize=16)\n",
        "plt.ylabel(\"Feature Name\", fontsize=16)\n",
        "plt.show()"
      ],
      "metadata": {
        "colab": {
          "base_uri": "https://localhost:8080/",
          "height": 575
        },
        "id": "sDWE-zo8zjap",
        "outputId": "bcea333e-c639-435d-cb91-40a7d489e4e3"
      },
      "execution_count": 88,
      "outputs": [
        {
          "output_type": "display_data",
          "data": {
            "text/plain": [
              "<Figure size 1000x600 with 1 Axes>"
            ],
            "image/png": "[encoded data removed]"
          },
          "metadata": {}
        }
      ]
    },
    {
      "cell_type": "markdown",
      "source": [
        "## Balanced Data"
      ],
      "metadata": {
        "id": "OviQyrPB_vAi"
      }
    },
    {
      "cell_type": "markdown",
      "source": [
        "### All Features"
      ],
      "metadata": {
        "id": "1xO6gseKSpTw"
      }
    },
    {
      "cell_type": "code",
      "source": [
        "dt_model_confmat = confusion_matrix(y_test, dt_model_y_pred_bal)\n",
        "dt_model_confmat_disp = ConfusionMatrixDisplay(confusion_matrix=dt_model_confmat,display_labels=dt_model_bal.classes_)\n",
        "dt_model_confmat_disp.confusion_matrix"
      ],
      "metadata": {
        "colab": {
          "base_uri": "https://localhost:8080/"
        },
        "outputId": "c1e9cd49-c995-4602-bf95-1f25ecb8fc23",
        "id": "YRUzmccC_vAi"
      },
      "execution_count": 89,
      "outputs": [
        {
          "output_type": "execute_result",
          "data": {
            "text/plain": [
              "array([[12788,  1831],\n",
              "       [  909,  2050]])"
            ]
          },
          "metadata": {},
          "execution_count": 89
        }
      ]
    },
    {
      "cell_type": "code",
      "source": [
        "accuracy_score(y_test, dt_model_y_pred_bal)"
      ],
      "metadata": {
        "colab": {
          "base_uri": "https://localhost:8080/"
        },
        "outputId": "22d12054-4ca2-42ea-c02e-41509dc54fcc",
        "id": "jwgHvrXj_vAi"
      },
      "execution_count": 90,
      "outputs": [
        {
          "output_type": "execute_result",
          "data": {
            "text/plain": [
              "0.844123335988167"
            ]
          },
          "metadata": {},
          "execution_count": 90
        }
      ]
    },
    {
      "cell_type": "code",
      "source": [
        "precision_score(y_test, dt_model_y_pred_bal)"
      ],
      "metadata": {
        "colab": {
          "base_uri": "https://localhost:8080/"
        },
        "outputId": "e5654c8e-a5da-49cf-b17a-f0148ccf5068",
        "id": "AK8Bo7za_vAi"
      },
      "execution_count": 91,
      "outputs": [
        {
          "output_type": "execute_result",
          "data": {
            "text/plain": [
              "0.5282143777376964"
            ]
          },
          "metadata": {},
          "execution_count": 91
        }
      ]
    },
    {
      "cell_type": "code",
      "source": [
        "recall_score(y_test, dt_model_y_pred_bal) "
      ],
      "metadata": {
        "colab": {
          "base_uri": "https://localhost:8080/"
        },
        "outputId": "67fa162b-193d-4066-b2cc-810dbcfe968b",
        "id": "VFpJx3Bj_vAi"
      },
      "execution_count": 92,
      "outputs": [
        {
          "output_type": "execute_result",
          "data": {
            "text/plain": [
              "0.6928016221696519"
            ]
          },
          "metadata": {},
          "execution_count": 92
        }
      ]
    },
    {
      "cell_type": "code",
      "source": [
        "imp_df = pd.DataFrame(\n",
        "    {\"Feature Name\": X_train_bal.columns,\n",
        "     \"Importance\": dt_model_bal.feature_importances_})\n",
        "\n",
        "fi = imp_df.sort_values(by=\"Importance\", ascending=False)\n",
        "fi_top5 = fi.head()\n",
        "\n",
        "plt.figure(figsize=(10,6))\n",
        "sns.barplot(data=fi_top5, x=\"Importance\", y=\"Feature Name\")\n",
        "plt.title(\"Top 5 Feature Importance - All Features - Balanced - Decision Tree\", fontsize=18)\n",
        "plt.xlabel(\"Importance\", fontsize=16)\n",
        "plt.ylabel(\"Feature Name\", fontsize=16)\n",
        "plt.show()"
      ],
      "metadata": {
        "colab": {
          "base_uri": "https://localhost:8080/",
          "height": 575
        },
        "id": "CfVYP1X3z0Mx",
        "outputId": "e927cce1-539c-42ea-b11d-bbfe08a39b12"
      },
      "execution_count": 93,
      "outputs": [
        {
          "output_type": "display_data",
          "data": {
            "text/plain": [
              "<Figure size 1000x600 with 1 Axes>"
            ],
            "image/png": "[encoded data removed]"
          },
          "metadata": {}
        }
      ]
    },
    {
      "cell_type": "markdown",
      "source": [
        "### Selected Features"
      ],
      "metadata": {
        "id": "E3-lM5da_vAj"
      }
    },
    {
      "cell_type": "code",
      "source": [
        "dt_model_confmat = confusion_matrix(y_test_few, dt_model_y_pred_bal_few)\n",
        "dt_model_confmat_disp = ConfusionMatrixDisplay(confusion_matrix=dt_model_confmat,display_labels=dt_model_bal_few.classes_)\n",
        "dt_model_confmat_disp.confusion_matrix"
      ],
      "metadata": {
        "colab": {
          "base_uri": "https://localhost:8080/"
        },
        "outputId": "b5f0d851-71d9-4d99-c0e1-02a625ca61b7",
        "id": "_n8opyKq_vAj"
      },
      "execution_count": 94,
      "outputs": [
        {
          "output_type": "execute_result",
          "data": {
            "text/plain": [
              "array([[13039,  1580],\n",
              "       [ 1001,  1958]])"
            ]
          },
          "metadata": {},
          "execution_count": 94
        }
      ]
    },
    {
      "cell_type": "code",
      "source": [
        "accuracy_score(y_test_few, dt_model_y_pred_bal_few)"
      ],
      "metadata": {
        "colab": {
          "base_uri": "https://localhost:8080/"
        },
        "outputId": "ad6f4adf-60ba-44d9-c7a2-8c7f265144dd",
        "id": "qZwZUgD0_vAj"
      },
      "execution_count": 95,
      "outputs": [
        {
          "output_type": "execute_result",
          "data": {
            "text/plain": [
              "0.8531687336443281"
            ]
          },
          "metadata": {},
          "execution_count": 95
        }
      ]
    },
    {
      "cell_type": "code",
      "source": [
        "precision_score(y_test_few, dt_model_y_pred_bal_few)"
      ],
      "metadata": {
        "colab": {
          "base_uri": "https://localhost:8080/"
        },
        "outputId": "b61b62ec-e45d-4988-df25-d055436256cc",
        "id": "nWwHstKz_vAj"
      },
      "execution_count": 96,
      "outputs": [
        {
          "output_type": "execute_result",
          "data": {
            "text/plain": [
              "0.5534200113058225"
            ]
          },
          "metadata": {},
          "execution_count": 96
        }
      ]
    },
    {
      "cell_type": "code",
      "source": [
        "recall_score(y_test_few, dt_model_y_pred_bal_few) "
      ],
      "metadata": {
        "colab": {
          "base_uri": "https://localhost:8080/"
        },
        "outputId": "c6751c70-028c-4636-e2e0-bb7e705c3e10",
        "id": "V23SjjLR_vAj"
      },
      "execution_count": 97,
      "outputs": [
        {
          "output_type": "execute_result",
          "data": {
            "text/plain": [
              "0.6617100371747212"
            ]
          },
          "metadata": {},
          "execution_count": 97
        }
      ]
    },
    {
      "cell_type": "code",
      "source": [
        "imp_df = pd.DataFrame(\n",
        "    {\"Feature Name\": X_train_bal_few.columns,\n",
        "     \"Importance\": dt_model_bal_few.feature_importances_})\n",
        "\n",
        "fi = imp_df.sort_values(by=\"Importance\", ascending=False)\n",
        "fi_top5 = fi.head()\n",
        "\n",
        "plt.figure(figsize=(10,6))\n",
        "sns.barplot(data=fi_top5, x=\"Importance\", y=\"Feature Name\")\n",
        "plt.title(\"Top 5 Feature Importance - Selected Features - Balanced - Decision Tree\", fontsize=18)\n",
        "plt.xlabel(\"Importance\", fontsize=16)\n",
        "plt.ylabel(\"Feature Name\", fontsize=16)\n",
        "plt.show()"
      ],
      "metadata": {
        "colab": {
          "base_uri": "https://localhost:8080/",
          "height": 575
        },
        "id": "DNyFwgBCz_CK",
        "outputId": "8873e080-2b4b-4bd9-ef61-d55b67b443d0"
      },
      "execution_count": 98,
      "outputs": [
        {
          "output_type": "display_data",
          "data": {
            "text/plain": [
              "<Figure size 1000x600 with 1 Axes>"
            ],
            "image/png": "[encoded data removed]"
          },
          "metadata": {}
        }
      ]
    },
    {
      "cell_type": "markdown",
      "source": [
        "# Model Selection - RF"
      ],
      "metadata": {
        "id": "uwqnXEq9_24V"
      }
    },
    {
      "cell_type": "markdown",
      "source": [
        "## Imbalanced Data"
      ],
      "metadata": {
        "id": "KNG47QEh_24W"
      }
    },
    {
      "cell_type": "markdown",
      "source": [
        "### All Features"
      ],
      "metadata": {
        "id": "eaVpg0yL_24X"
      }
    },
    {
      "cell_type": "code",
      "source": [
        "rf_model = RandomForestClassifier(max_depth=4)\n",
        "rf_model.fit(X_train, y_train)\n",
        "rf_model_y_pred = rf_model.predict(X_test)"
      ],
      "metadata": {
        "id": "oU_evt2m_24X"
      },
      "execution_count": 99,
      "outputs": []
    },
    {
      "cell_type": "markdown",
      "source": [
        "#### test fo over/under fitting"
      ],
      "metadata": {
        "id": "M8nvyeZtwNgz"
      }
    },
    {
      "cell_type": "code",
      "source": [
        "rf_model_y_pred_test = rf_model.predict(X_test)\n",
        "rf_model_y_pred_train = rf_model.predict(X_train)\n",
        "\n",
        "test_acc = accuracy_score(y_test, rf_model_y_pred_test)\n",
        "train_acc = accuracy_score(y_train, rf_model_y_pred_train)\n",
        "\n",
        "print(\"Train accuracy:\", train_acc)\n",
        "print(\"Test accuracy:\", test_acc)"
      ],
      "metadata": {
        "colab": {
          "base_uri": "https://localhost:8080/"
        },
        "outputId": "a2f51904-35d5-4b28-8ed5-f645c83d730f",
        "id": "ZHrI_9rw_24Y"
      },
      "execution_count": 100,
      "outputs": [
        {
          "output_type": "stream",
          "name": "stdout",
          "text": [
            "Train accuracy: 0.8466621153752377\n",
            "Test accuracy: 0.8445215610422119\n"
          ]
        }
      ]
    },
    {
      "cell_type": "markdown",
      "source": [
        "### Selected Features"
      ],
      "metadata": {
        "id": "qmY-aSz-_24Z"
      }
    },
    {
      "cell_type": "code",
      "source": [
        "rf_model_few = RandomForestClassifier(max_depth=4)\n",
        "rf_model_few.fit(X_train_few, y_train_few)\n",
        "rf_model_y_pred_few = rf_model_few.predict(X_test_few)"
      ],
      "metadata": {
        "id": "CMR0vpIM_24a"
      },
      "execution_count": 101,
      "outputs": []
    },
    {
      "cell_type": "markdown",
      "source": [
        "#### test fo over/under fitting"
      ],
      "metadata": {
        "id": "56dcdDlPwQW2"
      }
    },
    {
      "cell_type": "code",
      "source": [
        "rf_model_y_pred_few_test = rf_model_few.predict(X_test_few)\n",
        "rf_model_y_pred_few_train = rf_model_few.predict(X_train_few)\n",
        "\n",
        "test_acc = accuracy_score(y_test, rf_model_y_pred_few_test)\n",
        "train_acc = accuracy_score(y_train, rf_model_y_pred_few_train)\n",
        "\n",
        "print(\"Train accuracy:\", train_acc)\n",
        "print(\"Test accuracy:\", test_acc)"
      ],
      "metadata": {
        "colab": {
          "base_uri": "https://localhost:8080/"
        },
        "outputId": "33705b4f-a717-4c56-d1f9-a6693877a90b",
        "id": "Vlf5ewcA_24a"
      },
      "execution_count": 102,
      "outputs": [
        {
          "output_type": "stream",
          "name": "stdout",
          "text": [
            "Train accuracy: 0.8568293753352514\n",
            "Test accuracy: 0.8524291728296735\n"
          ]
        }
      ]
    },
    {
      "cell_type": "markdown",
      "source": [
        "## Balanced Data"
      ],
      "metadata": {
        "id": "6T2kDGn6_24b"
      }
    },
    {
      "cell_type": "markdown",
      "source": [
        "### All Features"
      ],
      "metadata": {
        "id": "k1S7cmXi_24b"
      }
    },
    {
      "cell_type": "code",
      "source": [
        "rf_model_bal = RandomForestClassifier(max_depth=4)\n",
        "rf_model_bal.fit(X_train_bal, y_train_bal)\n",
        "rf_model_y_pred_bal = rf_model_bal.predict(X_test)"
      ],
      "metadata": {
        "id": "uVcj8oKJ_24c"
      },
      "execution_count": 103,
      "outputs": []
    },
    {
      "cell_type": "markdown",
      "source": [
        "#### test fo over/under fitting"
      ],
      "metadata": {
        "id": "Qhn7HAbNwVcB"
      }
    },
    {
      "cell_type": "code",
      "source": [
        "rf_model_y_pred_bal_test = rf_model_bal.predict(X_test)\n",
        "rf_model_y_pred_bal_train = rf_model_bal.predict(X_train)\n",
        "\n",
        "test_acc = accuracy_score(y_test, rf_model_y_pred_bal_test)\n",
        "train_acc = accuracy_score(y_train, rf_model_y_pred_bal_train)\n",
        "\n",
        "print(\"Train accuracy:\", train_acc)\n",
        "print(\"Test accuracy:\", test_acc)"
      ],
      "metadata": {
        "colab": {
          "base_uri": "https://localhost:8080/"
        },
        "outputId": "ab00a5e0-9f08-4b2e-ab19-1fd69a98b7b7",
        "id": "j3N4b4YB_24c"
      },
      "execution_count": 104,
      "outputs": [
        {
          "output_type": "stream",
          "name": "stdout",
          "text": [
            "Train accuracy: 0.8244501877407714\n",
            "Test accuracy: 0.818636932529298\n"
          ]
        }
      ]
    },
    {
      "cell_type": "markdown",
      "source": [
        "### Selected Features"
      ],
      "metadata": {
        "id": "WzOCNdxH_24d"
      }
    },
    {
      "cell_type": "code",
      "source": [
        "rf_model_bal_few = RandomForestClassifier(max_depth=4)\n",
        "rf_model_bal_few.fit(X_train_bal_few, y_train_bal_few)\n",
        "rf_model_y_pred_bal_few = rf_model_bal_few.predict(X_test_few)"
      ],
      "metadata": {
        "id": "dpRCMPKJ_24e"
      },
      "execution_count": 105,
      "outputs": []
    },
    {
      "cell_type": "markdown",
      "source": [
        "#### test fo over/under fitting"
      ],
      "metadata": {
        "id": "2lt_nhe7wXrB"
      }
    },
    {
      "cell_type": "code",
      "source": [
        "rf_model_y_pred_bal_few_test = rf_model_bal_few.predict(X_test_few)\n",
        "rf_model_y_pred_bal_few_train = rf_model_bal_few.predict(X_train_few)\n",
        "\n",
        "test_acc = accuracy_score(y_test, rf_model_y_pred_bal_few_test)\n",
        "train_acc = accuracy_score(y_train, rf_model_y_pred_bal_few_train)\n",
        "\n",
        "print(\"Train accuracy:\", train_acc)\n",
        "print(\"Test accuracy:\", test_acc)"
      ],
      "metadata": {
        "colab": {
          "base_uri": "https://localhost:8080/"
        },
        "outputId": "0da1bd0e-db53-40c2-8ee6-6aef7b24c9f3",
        "id": "x4cR6TwW_24e"
      },
      "execution_count": 106,
      "outputs": [
        {
          "output_type": "stream",
          "name": "stdout",
          "text": [
            "Train accuracy: 0.8568537572536207\n",
            "Test accuracy: 0.8531118443508932\n"
          ]
        }
      ]
    },
    {
      "cell_type": "markdown",
      "source": [
        "# Evaluation - RF"
      ],
      "metadata": {
        "id": "CKrAInTJ_7de"
      }
    },
    {
      "cell_type": "markdown",
      "source": [
        "## Imbalanced Data"
      ],
      "metadata": {
        "id": "KiqB0Zct_7df"
      }
    },
    {
      "cell_type": "markdown",
      "source": [
        "### All Features"
      ],
      "metadata": {
        "id": "11y9DpACSuWV"
      }
    },
    {
      "cell_type": "code",
      "source": [
        "rf_model_confmat = confusion_matrix(y_test, rf_model_y_pred)\n",
        "rf_model_confmat_disp = ConfusionMatrixDisplay(confusion_matrix=rf_model_confmat,display_labels=rf_model.classes_)\n",
        "rf_model_confmat_disp.confusion_matrix"
      ],
      "metadata": {
        "colab": {
          "base_uri": "https://localhost:8080/"
        },
        "outputId": "ef273190-7a9f-4a0c-c0f1-083fb957c637",
        "id": "1R4uB_TL_7dg"
      },
      "execution_count": 107,
      "outputs": [
        {
          "output_type": "execute_result",
          "data": {
            "text/plain": [
              "array([[14355,   264],\n",
              "       [ 2469,   490]])"
            ]
          },
          "metadata": {},
          "execution_count": 107
        }
      ]
    },
    {
      "cell_type": "code",
      "source": [
        "accuracy_score(y_test, rf_model_y_pred)"
      ],
      "metadata": {
        "colab": {
          "base_uri": "https://localhost:8080/"
        },
        "outputId": "ee55edb3-120b-4f2c-cd63-a44588af8b3f",
        "id": "8lm9rgXw_7dh"
      },
      "execution_count": 108,
      "outputs": [
        {
          "output_type": "execute_result",
          "data": {
            "text/plain": [
              "0.8445215610422119"
            ]
          },
          "metadata": {},
          "execution_count": 108
        }
      ]
    },
    {
      "cell_type": "code",
      "source": [
        "precision_score(y_test, rf_model_y_pred)"
      ],
      "metadata": {
        "colab": {
          "base_uri": "https://localhost:8080/"
        },
        "outputId": "3d790eab-94e0-49a3-af03-8da8a35a13bf",
        "id": "6yrzuj_I_7di"
      },
      "execution_count": 109,
      "outputs": [
        {
          "output_type": "execute_result",
          "data": {
            "text/plain": [
              "0.649867374005305"
            ]
          },
          "metadata": {},
          "execution_count": 109
        }
      ]
    },
    {
      "cell_type": "code",
      "source": [
        "recall_score(y_test, rf_model_y_pred) "
      ],
      "metadata": {
        "colab": {
          "base_uri": "https://localhost:8080/"
        },
        "outputId": "d2ad8c07-8478-4b8d-b9d7-225b1bd3eec2",
        "id": "MKORK_gQ_7di"
      },
      "execution_count": 110,
      "outputs": [
        {
          "output_type": "execute_result",
          "data": {
            "text/plain": [
              "0.16559648529908752"
            ]
          },
          "metadata": {},
          "execution_count": 110
        }
      ]
    },
    {
      "cell_type": "code",
      "source": [
        "imp_df = pd.DataFrame(\n",
        "    {\"Feature Name\": X_train.columns,\n",
        "     \"Importance\": rf_model.feature_importances_})\n",
        "\n",
        "fi = imp_df.sort_values(by=\"Importance\", ascending=False)\n",
        "fi_top5 = fi.head()\n",
        "\n",
        "plt.figure(figsize=(10,6))\n",
        "sns.barplot(data=fi_top5, x=\"Importance\", y=\"Feature Name\")\n",
        "plt.title(\"Top 5 Feature Importance - All Features - Imbalanced - Random Forest\", fontsize=18)\n",
        "plt.xlabel(\"Importance\", fontsize=16)\n",
        "plt.ylabel(\"Feature Name\", fontsize=16)\n",
        "plt.show()"
      ],
      "metadata": {
        "colab": {
          "base_uri": "https://localhost:8080/",
          "height": 575
        },
        "id": "WHNm4gvl0MWZ",
        "outputId": "22b8a806-3a01-4ef8-f3bb-76a8923ff3db"
      },
      "execution_count": 111,
      "outputs": [
        {
          "output_type": "display_data",
          "data": {
            "text/plain": [
              "<Figure size 1000x600 with 1 Axes>"
            ],
            "image/png": "[encoded data removed]"
          },
          "metadata": {}
        }
      ]
    },
    {
      "cell_type": "markdown",
      "source": [
        "### Selected Features"
      ],
      "metadata": {
        "id": "NsKpJH14_7dj"
      }
    },
    {
      "cell_type": "code",
      "source": [
        "rf_model_confmat = confusion_matrix(y_test_few, rf_model_y_pred_few)\n",
        "rf_model_confmat_disp = ConfusionMatrixDisplay(confusion_matrix=rf_model_confmat,display_labels=rf_model.classes_)\n",
        "rf_model_confmat_disp.confusion_matrix"
      ],
      "metadata": {
        "colab": {
          "base_uri": "https://localhost:8080/"
        },
        "outputId": "d5c0f972-e52c-477f-f111-7b75e6e5fdf6",
        "id": "aQZHPFwQ_7dj"
      },
      "execution_count": 112,
      "outputs": [
        {
          "output_type": "execute_result",
          "data": {
            "text/plain": [
              "array([[13408,  1211],\n",
              "       [ 1383,  1576]])"
            ]
          },
          "metadata": {},
          "execution_count": 112
        }
      ]
    },
    {
      "cell_type": "code",
      "source": [
        "accuracy_score(y_test_few, rf_model_y_pred_few)"
      ],
      "metadata": {
        "colab": {
          "base_uri": "https://localhost:8080/"
        },
        "outputId": "b0eea8eb-042f-4142-cfe0-5dc8a96310c1",
        "id": "7tx3DtPe_7dj"
      },
      "execution_count": 113,
      "outputs": [
        {
          "output_type": "execute_result",
          "data": {
            "text/plain": [
              "0.8524291728296735"
            ]
          },
          "metadata": {},
          "execution_count": 113
        }
      ]
    },
    {
      "cell_type": "code",
      "source": [
        "precision_score(y_test_few, rf_model_y_pred_few)"
      ],
      "metadata": {
        "colab": {
          "base_uri": "https://localhost:8080/"
        },
        "outputId": "e159a720-abf9-4c51-dc10-cfb9cba314a9",
        "id": "KSMghyF-_7dj"
      },
      "execution_count": 114,
      "outputs": [
        {
          "output_type": "execute_result",
          "data": {
            "text/plain": [
              "0.5654825977753857"
            ]
          },
          "metadata": {},
          "execution_count": 114
        }
      ]
    },
    {
      "cell_type": "code",
      "source": [
        "recall_score(y_test_few, rf_model_y_pred_few) "
      ],
      "metadata": {
        "colab": {
          "base_uri": "https://localhost:8080/"
        },
        "outputId": "9e41400d-4498-43fa-eea9-e2a8f593756e",
        "id": "c6Q79oBC_7dj"
      },
      "execution_count": 115,
      "outputs": [
        {
          "output_type": "execute_result",
          "data": {
            "text/plain": [
              "0.5326123690435958"
            ]
          },
          "metadata": {},
          "execution_count": 115
        }
      ]
    },
    {
      "cell_type": "code",
      "source": [
        "imp_df = pd.DataFrame(\n",
        "    {\"Feature Name\": X_train_few.columns,\n",
        "     \"Importance\": rf_model_few.feature_importances_})\n",
        "\n",
        "fi = imp_df.sort_values(by=\"Importance\", ascending=False)\n",
        "fi_top5 = fi.head()\n",
        "\n",
        "plt.figure(figsize=(10,6))\n",
        "sns.barplot(data=fi_top5, x=\"Importance\", y=\"Feature Name\")\n",
        "plt.title(\"Top 5 Feature Importance - Selected Features - Imbalanced - Random Forest\", fontsize=18)\n",
        "plt.xlabel(\"Importance\", fontsize=16)\n",
        "plt.ylabel(\"Feature Name\", fontsize=16)\n",
        "plt.show()"
      ],
      "metadata": {
        "colab": {
          "base_uri": "https://localhost:8080/",
          "height": 575
        },
        "id": "57uFeqLu0WEV",
        "outputId": "7b653733-72a5-4a47-da75-c893afdd39f5"
      },
      "execution_count": 116,
      "outputs": [
        {
          "output_type": "display_data",
          "data": {
            "text/plain": [
              "<Figure size 1000x600 with 1 Axes>"
            ],
            "image/png": "[encoded data removed]"
          },
          "metadata": {}
        }
      ]
    },
    {
      "cell_type": "markdown",
      "source": [
        "## Balanced Data"
      ],
      "metadata": {
        "id": "Tp7lWw-I_7dj"
      }
    },
    {
      "cell_type": "markdown",
      "source": [
        "### All Features"
      ],
      "metadata": {
        "id": "wOWE9R5rSysJ"
      }
    },
    {
      "cell_type": "code",
      "source": [
        "rf_model_confmat = confusion_matrix(y_test, rf_model_y_pred_bal)\n",
        "rf_model_confmat_disp = ConfusionMatrixDisplay(confusion_matrix=rf_model_confmat,display_labels=rf_model_bal.classes_)\n",
        "rf_model_confmat_disp.confusion_matrix"
      ],
      "metadata": {
        "colab": {
          "base_uri": "https://localhost:8080/"
        },
        "outputId": "190de603-ecd8-45b0-d801-a8577c3acdeb",
        "id": "hYPtM9TS_7dj"
      },
      "execution_count": 117,
      "outputs": [
        {
          "output_type": "execute_result",
          "data": {
            "text/plain": [
              "array([[12328,  2291],\n",
              "       [  897,  2062]])"
            ]
          },
          "metadata": {},
          "execution_count": 117
        }
      ]
    },
    {
      "cell_type": "code",
      "source": [
        "accuracy_score(y_test, rf_model_y_pred_bal)"
      ],
      "metadata": {
        "colab": {
          "base_uri": "https://localhost:8080/"
        },
        "outputId": "5b371869-45af-4c8c-98d4-b126c46d301c",
        "id": "2eP8UkpU_7dj"
      },
      "execution_count": 118,
      "outputs": [
        {
          "output_type": "execute_result",
          "data": {
            "text/plain": [
              "0.818636932529298"
            ]
          },
          "metadata": {},
          "execution_count": 118
        }
      ]
    },
    {
      "cell_type": "code",
      "source": [
        "precision_score(y_test, rf_model_y_pred_bal)"
      ],
      "metadata": {
        "colab": {
          "base_uri": "https://localhost:8080/"
        },
        "outputId": "48717415-3a9c-4819-dd94-412903d5f762",
        "id": "x_FlMZgh_7dj"
      },
      "execution_count": 119,
      "outputs": [
        {
          "output_type": "execute_result",
          "data": {
            "text/plain": [
              "0.4736963014013324"
            ]
          },
          "metadata": {},
          "execution_count": 119
        }
      ]
    },
    {
      "cell_type": "code",
      "source": [
        "recall_score(y_test, rf_model_y_pred_bal) "
      ],
      "metadata": {
        "colab": {
          "base_uri": "https://localhost:8080/"
        },
        "outputId": "04a135b5-ad20-4f1f-8cde-64f5ea0d1dd0",
        "id": "Kjghqav2_7dk"
      },
      "execution_count": 120,
      "outputs": [
        {
          "output_type": "execute_result",
          "data": {
            "text/plain": [
              "0.6968570462994255"
            ]
          },
          "metadata": {},
          "execution_count": 120
        }
      ]
    },
    {
      "cell_type": "code",
      "source": [
        "imp_df = pd.DataFrame(\n",
        "    {\"Feature Name\": X_train_bal.columns,\n",
        "     \"Importance\": rf_model_bal.feature_importances_})\n",
        "\n",
        "fi = imp_df.sort_values(by=\"Importance\", ascending=False)\n",
        "fi_top5 = fi.head()\n",
        "\n",
        "plt.figure(figsize=(10,6))\n",
        "sns.barplot(data=fi_top5, x=\"Importance\", y=\"Feature Name\")\n",
        "plt.title(\"Top 5 Feature Importance - All Features - Balanced - Random Forest\", fontsize=18)\n",
        "plt.xlabel(\"Importance\", fontsize=16)\n",
        "plt.ylabel(\"Feature Name\", fontsize=16)\n",
        "plt.show()"
      ],
      "metadata": {
        "colab": {
          "base_uri": "https://localhost:8080/",
          "height": 575
        },
        "id": "aqlxvBTc0d-M",
        "outputId": "c697440c-795b-4d8a-f250-5c574bda8eef"
      },
      "execution_count": 121,
      "outputs": [
        {
          "output_type": "display_data",
          "data": {
            "text/plain": [
              "<Figure size 1000x600 with 1 Axes>"
            ],
            "image/png": "[encoded data removed]"
          },
          "metadata": {}
        }
      ]
    },
    {
      "cell_type": "markdown",
      "source": [
        "### Selected Features"
      ],
      "metadata": {
        "id": "BHgdsqeC_7dk"
      }
    },
    {
      "cell_type": "code",
      "source": [
        "rf_model_confmat = confusion_matrix(y_test_few, rf_model_y_pred_bal_few)\n",
        "rf_model_confmat_disp = ConfusionMatrixDisplay(confusion_matrix=rf_model_confmat,display_labels=rf_model_bal_few.classes_)\n",
        "rf_model_confmat_disp.confusion_matrix"
      ],
      "metadata": {
        "colab": {
          "base_uri": "https://localhost:8080/"
        },
        "outputId": "7891f36e-a472-4381-eecd-4de25698bf5c",
        "id": "ABCpktP3_7dk"
      },
      "execution_count": 122,
      "outputs": [
        {
          "output_type": "execute_result",
          "data": {
            "text/plain": [
              "array([[13040,  1579],\n",
              "       [ 1003,  1956]])"
            ]
          },
          "metadata": {},
          "execution_count": 122
        }
      ]
    },
    {
      "cell_type": "code",
      "source": [
        "accuracy_score(y_test_few, rf_model_y_pred_bal_few)"
      ],
      "metadata": {
        "colab": {
          "base_uri": "https://localhost:8080/"
        },
        "outputId": "39a30606-1e74-4a80-dd51-4b8d36e04881",
        "id": "0fVQPdaB_7dk"
      },
      "execution_count": 123,
      "outputs": [
        {
          "output_type": "execute_result",
          "data": {
            "text/plain": [
              "0.8531118443508932"
            ]
          },
          "metadata": {},
          "execution_count": 123
        }
      ]
    },
    {
      "cell_type": "code",
      "source": [
        "precision_score(y_test_few, rf_model_y_pred_bal_few)"
      ],
      "metadata": {
        "colab": {
          "base_uri": "https://localhost:8080/"
        },
        "outputId": "b417240f-212a-468a-e939-5ce4fda7440d",
        "id": "_O483vhK_7dk"
      },
      "execution_count": 124,
      "outputs": [
        {
          "output_type": "execute_result",
          "data": {
            "text/plain": [
              "0.5533239038189534"
            ]
          },
          "metadata": {},
          "execution_count": 124
        }
      ]
    },
    {
      "cell_type": "code",
      "source": [
        "recall_score(y_test_few, rf_model_y_pred_bal_few) "
      ],
      "metadata": {
        "colab": {
          "base_uri": "https://localhost:8080/"
        },
        "outputId": "b5b13240-999c-4bad-de0d-8fed4ee4e4fc",
        "id": "Ap-d8gTL_7dk"
      },
      "execution_count": 125,
      "outputs": [
        {
          "output_type": "execute_result",
          "data": {
            "text/plain": [
              "0.6610341331530922"
            ]
          },
          "metadata": {},
          "execution_count": 125
        }
      ]
    },
    {
      "cell_type": "code",
      "source": [
        "imp_df = pd.DataFrame(\n",
        "    {\"Feature Name\": X_train_bal_few.columns,\n",
        "     \"Importance\": rf_model_bal_few.feature_importances_})\n",
        "\n",
        "fi = imp_df.sort_values(by=\"Importance\", ascending=False)\n",
        "fi_top5 = fi.head()\n",
        "\n",
        "plt.figure(figsize=(10,6))\n",
        "sns.barplot(data=fi_top5, x=\"Importance\", y=\"Feature Name\")\n",
        "plt.title(\"Top 5 Feature Importance - Selected Features - Balanced - Random Forest\", fontsize=18)\n",
        "plt.xlabel(\"Importance\", fontsize=16)\n",
        "plt.ylabel(\"Feature Name\", fontsize=16)\n",
        "plt.show()"
      ],
      "metadata": {
        "colab": {
          "base_uri": "https://localhost:8080/",
          "height": 575
        },
        "id": "EEcKP-SP0kwQ",
        "outputId": "115d73f2-9e61-4a2d-85dd-b4ea764b7b89"
      },
      "execution_count": 126,
      "outputs": [
        {
          "output_type": "display_data",
          "data": {
            "text/plain": [
              "<Figure size 1000x600 with 1 Axes>"
            ],
            "image/png": "[encoded data removed]"
          },
          "metadata": {}
        }
      ]
    }
  ]
}